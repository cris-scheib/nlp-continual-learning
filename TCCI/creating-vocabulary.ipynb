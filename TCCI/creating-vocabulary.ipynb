{
 "cells": [
  {
   "cell_type": "code",
   "execution_count": 1,
   "id": "5e6b9294",
   "metadata": {},
   "outputs": [],
   "source": [
    "import pandas as pd\n",
    "import nltk\n",
    "from collections import Counter"
   ]
  },
  {
   "cell_type": "code",
   "execution_count": 2,
   "id": "e3ccb8fc",
   "metadata": {},
   "outputs": [],
   "source": [
    "dataset = pd.read_csv('data/dataset.csv')"
   ]
  },
  {
   "cell_type": "code",
   "execution_count": 3,
   "id": "6fd433f1",
   "metadata": {},
   "outputs": [],
   "source": [
    "def lowerDataset(data):\n",
    "    return data.str.lower() \n",
    "    \n",
    "def cleanDataset(data):\n",
    "    return data.str.replace('/r/','')                  \\\n",
    "                .str.replace(')','', regex=False)      \\\n",
    "                .str.replace('(','', regex=False)      \\\n",
    "                .str.replace(']','', regex=False)      \\\n",
    "                .str.replace('[','', regex=False)      \\\n",
    "                .str.replace('!','')                   \\\n",
    "                .str.replace('\"','')                   \\\n",
    "    \n",
    "def paddDataset(data):\n",
    "    return data.str.replace(',', ' ,')                 \\\n",
    "                .str.replace('.',' . ', regex=False)    \\\n",
    "                .str.replace('?',' ?', regex=False)    \\\n",
    "                .str.replace('\\n',' ')\n",
    "    "
   ]
  },
  {
   "cell_type": "code",
   "execution_count": 4,
   "id": "bae9062e",
   "metadata": {},
   "outputs": [],
   "source": [
    "wt = nltk.tokenize.WhitespaceTokenizer()\n",
    "for column in dataset.columns:    \n",
    "    dataset[column] = lowerDataset(dataset[column]) \n",
    "    dataset[column] = cleanDataset(dataset[column])\n",
    "    dataset[column] = paddDataset(dataset[column])                                    \n",
    "    dataset[column] = dataset[column].apply(wt.tokenize)"
   ]
  },
  {
   "cell_type": "code",
   "execution_count": 5,
   "id": "e92cffa6",
   "metadata": {},
   "outputs": [
    {
     "data": {
      "text/html": [
       "<div>\n",
       "<style scoped>\n",
       "    .dataframe tbody tr th:only-of-type {\n",
       "        vertical-align: middle;\n",
       "    }\n",
       "\n",
       "    .dataframe tbody tr th {\n",
       "        vertical-align: top;\n",
       "    }\n",
       "\n",
       "    .dataframe thead th {\n",
       "        text-align: right;\n",
       "    }\n",
       "</style>\n",
       "<table border=\"1\" class=\"dataframe\">\n",
       "  <thead>\n",
       "    <tr style=\"text-align: right;\">\n",
       "      <th></th>\n",
       "      <th>question</th>\n",
       "      <th>answer</th>\n",
       "    </tr>\n",
       "  </thead>\n",
       "  <tbody>\n",
       "    <tr>\n",
       "      <th>0</th>\n",
       "      <td>[what's, the, purpose, of, life, ?]</td>\n",
       "      <td>[idk, ., try, to, figure, out, how, to, be, ha...</td>\n",
       "    </tr>\n",
       "    <tr>\n",
       "      <th>1</th>\n",
       "      <td>[what's, the, purpose, of, life, ?]</td>\n",
       "      <td>[the, purpose, of, life, is, to, produce, comp...</td>\n",
       "    </tr>\n",
       "    <tr>\n",
       "      <th>2</th>\n",
       "      <td>[what's, the, purpose, of, life, ?]</td>\n",
       "      <td>[the, same, purpose, that, the, first, replica...</td>\n",
       "    </tr>\n",
       "    <tr>\n",
       "      <th>3</th>\n",
       "      <td>[what's, the, purpose, of, life, ?]</td>\n",
       "      <td>[have, fun, and, help, others, ,, change, the,...</td>\n",
       "    </tr>\n",
       "    <tr>\n",
       "      <th>4</th>\n",
       "      <td>[i've, tried, to, quit, smoking, ,, this, is, ...</td>\n",
       "      <td>[i, smoked, for, 12y, then, stopped, ., it, al...</td>\n",
       "    </tr>\n",
       "  </tbody>\n",
       "</table>\n",
       "</div>"
      ],
      "text/plain": [
       "                                            question  \\\n",
       "0                [what's, the, purpose, of, life, ?]   \n",
       "1                [what's, the, purpose, of, life, ?]   \n",
       "2                [what's, the, purpose, of, life, ?]   \n",
       "3                [what's, the, purpose, of, life, ?]   \n",
       "4  [i've, tried, to, quit, smoking, ,, this, is, ...   \n",
       "\n",
       "                                              answer  \n",
       "0  [idk, ., try, to, figure, out, how, to, be, ha...  \n",
       "1  [the, purpose, of, life, is, to, produce, comp...  \n",
       "2  [the, same, purpose, that, the, first, replica...  \n",
       "3  [have, fun, and, help, others, ,, change, the,...  \n",
       "4  [i, smoked, for, 12y, then, stopped, ., it, al...  "
      ]
     },
     "execution_count": 5,
     "metadata": {},
     "output_type": "execute_result"
    }
   ],
   "source": [
    "dataset.head()"
   ]
  },
  {
   "cell_type": "code",
   "execution_count": 6,
   "id": "ee8e3e54",
   "metadata": {},
   "outputs": [],
   "source": [
    "words = []\n",
    "for column in dataset.columns:\n",
    "    for row in dataset[column]:\n",
    "        words += row"
   ]
  },
  {
   "cell_type": "code",
   "execution_count": 7,
   "id": "4642a7cd",
   "metadata": {},
   "outputs": [],
   "source": [
    "#Removing the words related to reddit, it's not necessary\n",
    "words = [word for word in words if \"reddit\" not in word]"
   ]
  },
  {
   "cell_type": "code",
   "execution_count": 8,
   "id": "05ddd827",
   "metadata": {},
   "outputs": [],
   "source": [
    "counter = Counter(words)\n",
    "padding = ['<unk>', '<s>', '</s>']"
   ]
  },
  {
   "cell_type": "code",
   "execution_count": 9,
   "id": "e46f764b",
   "metadata": {},
   "outputs": [],
   "source": [
    "vocab_size = 50000\n",
    "common_words = counter.most_common(vocab_size - len(padding))"
   ]
  },
  {
   "cell_type": "code",
   "execution_count": 10,
   "id": "ea512948",
   "metadata": {},
   "outputs": [],
   "source": [
    "f = open(\"data/vocab.50K.en\", \"w\")\n",
    "for pd in padding:\n",
    "    f.write(pd + '\\n')\n",
    "for common in common_words:\n",
    "    f.write(common[0] + '\\n')\n",
    "f.close()"
   ]
  },
  {
   "cell_type": "code",
   "execution_count": null,
   "id": "7d47b7fa",
   "metadata": {},
   "outputs": [],
   "source": []
  }
 ],
 "metadata": {
  "kernelspec": {
   "display_name": "Python 3 (ipykernel)",
   "language": "python",
   "name": "python3"
  },
  "language_info": {
   "codemirror_mode": {
    "name": "ipython",
    "version": 3
   },
   "file_extension": ".py",
   "mimetype": "text/x-python",
   "name": "python",
   "nbconvert_exporter": "python",
   "pygments_lexer": "ipython3",
   "version": "3.10.6"
  }
 },
 "nbformat": 4,
 "nbformat_minor": 5
}
