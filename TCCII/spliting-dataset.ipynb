{
 "cells": [
  {
   "cell_type": "code",
   "execution_count": 1,
   "id": "eaf86df3",
   "metadata": {},
   "outputs": [],
   "source": [
    "import pandas as pd\n",
    "import csv\n",
    "from sklearn.utils import shuffle"
   ]
  },
  {
   "cell_type": "code",
   "execution_count": 2,
   "id": "04c08771",
   "metadata": {},
   "outputs": [],
   "source": [
    "def load_data():\n",
    "    return pd.read_csv('data/dataset.csv')\n",
    "\n",
    "def lower_data(data):\n",
    "    return data.str.lower() \n",
    "    \n",
    "def clean_data(data):\n",
    "    return data.str.replace(',', ' , ')                \\\n",
    "                .str.replace('.',' . ', regex=False)  \\\n",
    "                .str.replace('?',' ? ', regex=False)   \\\n",
    "                .str.replace(\"''\",' ', regex=False)   \\\n",
    "                .str.replace(r\"(\\s)'|'(\\s)\",' ', regex=True) \\\n",
    "                .str.replace(r\"[^a-zA-Z0-9?'.,]+\",' ',regex=True)\n",
    "\n",
    "def get_data():\n",
    "    data = load_data()\n",
    "    for column in data.columns:    \n",
    "        data[column] = lower_data(data[column])\n",
    "        data[column] = clean_data(data[column])\n",
    "    return shuffle(data)\n",
    "\n",
    "def remove_outliers(data):\n",
    "    return data[(data['question'].str.len() < 100) & (data['question'].str.len() > 10) & (data['answer'].str.len() < 200) & (data['answer'].str.len() > 10)]"
   ]
  },
  {
   "cell_type": "code",
   "execution_count": 3,
   "id": "705c36df",
   "metadata": {},
   "outputs": [],
   "source": [
    "dataset = remove_outliers(get_data())"
   ]
  },
  {
   "cell_type": "code",
   "execution_count": 4,
   "id": "b7fd6156",
   "metadata": {},
   "outputs": [
    {
     "data": {
      "text/plain": [
       "579575"
      ]
     },
     "execution_count": 4,
     "metadata": {},
     "output_type": "execute_result"
    }
   ],
   "source": [
    "len(dataset)"
   ]
  },
  {
   "cell_type": "code",
   "execution_count": 5,
   "id": "d9872394",
   "metadata": {},
   "outputs": [],
   "source": [
    "filesize = 5000"
   ]
  },
  {
   "cell_type": "code",
   "execution_count": 6,
   "id": "4609e57e",
   "metadata": {},
   "outputs": [],
   "source": [
    "files_count = len(dataset) // filesize"
   ]
  },
  {
   "cell_type": "code",
   "execution_count": 7,
   "id": "0cd717a4",
   "metadata": {},
   "outputs": [
    {
     "data": {
      "text/plain": [
       "115"
      ]
     },
     "execution_count": 7,
     "metadata": {},
     "output_type": "execute_result"
    }
   ],
   "source": [
    "files_count"
   ]
  },
  {
   "cell_type": "code",
   "execution_count": 8,
   "id": "ff90b17d",
   "metadata": {},
   "outputs": [],
   "source": [
    "def insertData(writer, start, end):\n",
    "    for index, row in dataset.iloc[start:end].iterrows():\n",
    "        writer.writerow([row['question'], row['answer']])"
   ]
  },
  {
   "cell_type": "code",
   "execution_count": 9,
   "id": "dc1b56c6",
   "metadata": {},
   "outputs": [],
   "source": [
    "def writeFile(index, start, end):\n",
    "    filename = f'dataset-clean-5k-{index+1}.csv'\n",
    "    csvfile = open(f'data/fraction/{filename}', 'w')\n",
    "    writer = csv.writer(csvfile)\n",
    "    writer.writerow(['question', 'answer'])\n",
    "    insertData(writer, start, end)\n",
    "    csvfile.close()"
   ]
  },
  {
   "cell_type": "code",
   "execution_count": 10,
   "id": "236f826a",
   "metadata": {},
   "outputs": [],
   "source": [
    "for i in range(files_count + 1):\n",
    "    start = i * filesize\n",
    "    end = (i * filesize) + filesize\n",
    "    if end > len(dataset):\n",
    "        end = len(dataset)\n",
    "    writeFile(i, start, end)"
   ]
  },
  {
   "cell_type": "code",
   "execution_count": null,
   "id": "c9a9dd12",
   "metadata": {},
   "outputs": [],
   "source": []
  }
 ],
 "metadata": {
  "kernelspec": {
   "display_name": "Python 3 (ipykernel)",
   "language": "python",
   "name": "python3"
  },
  "language_info": {
   "codemirror_mode": {
    "name": "ipython",
    "version": 3
   },
   "file_extension": ".py",
   "mimetype": "text/x-python",
   "name": "python",
   "nbconvert_exporter": "python",
   "pygments_lexer": "ipython3",
   "version": "3.10.12"
  }
 },
 "nbformat": 4,
 "nbformat_minor": 5
}
