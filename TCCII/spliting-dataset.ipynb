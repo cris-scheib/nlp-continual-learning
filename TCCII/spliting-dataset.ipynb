{
 "cells": [
  {
   "cell_type": "code",
   "execution_count": 1,
   "id": "eaf86df3",
   "metadata": {},
   "outputs": [],
   "source": [
    "import pandas as pd\n",
    "import csv\n",
    "from sklearn.utils import shuffle"
   ]
  },
  {
   "cell_type": "code",
   "execution_count": 2,
   "id": "f177587b",
   "metadata": {},
   "outputs": [],
   "source": [
    "dataset = pd.read_csv('data/dataset.csv')"
   ]
  },
  {
   "cell_type": "code",
   "execution_count": 3,
   "id": "d9872394",
   "metadata": {},
   "outputs": [],
   "source": [
    "filesize = 5000"
   ]
  },
  {
   "cell_type": "code",
   "execution_count": 4,
   "id": "4609e57e",
   "metadata": {},
   "outputs": [],
   "source": [
    "files_count = len(dataset) // filesize"
   ]
  },
  {
   "cell_type": "code",
   "execution_count": 5,
   "id": "ae6f4c93",
   "metadata": {},
   "outputs": [],
   "source": [
    "dataset = shuffle(dataset)"
   ]
  },
  {
   "cell_type": "code",
   "execution_count": 6,
   "id": "ff90b17d",
   "metadata": {},
   "outputs": [],
   "source": [
    "def insertData(writer, start, end):\n",
    "    for index, row in dataset.iloc[start:end].iterrows():\n",
    "        writer.writerow([row['question'], row['answer']])"
   ]
  },
  {
   "cell_type": "code",
   "execution_count": 7,
   "id": "dc1b56c6",
   "metadata": {},
   "outputs": [],
   "source": [
    "def writeFile(index, start, end):\n",
    "    filename = f'dataset-5k-{index+1}.csv'\n",
    "    csvfile = open(f'data/fraction/{filename}', 'w')\n",
    "    writer = csv.writer(csvfile)\n",
    "    writer.writerow(['question', 'answer'])\n",
    "    insertData(writer, start, end)\n",
    "    csvfile.close()"
   ]
  },
  {
   "cell_type": "code",
   "execution_count": null,
   "id": "236f826a",
   "metadata": {},
   "outputs": [],
   "source": [
    "for i in range(files_count + 1):\n",
    "    start = i * filesize\n",
    "    end = (i * filesize) + filesize\n",
    "    if end > len(dataset):\n",
    "        end = len(dataset)\n",
    "    writeFile(i, start, end)"
   ]
  },
  {
   "cell_type": "code",
   "execution_count": null,
   "id": "c9a9dd12",
   "metadata": {},
   "outputs": [],
   "source": []
  }
 ],
 "metadata": {
  "kernelspec": {
   "display_name": "Python 3 (ipykernel)",
   "language": "python",
   "name": "python3"
  },
  "language_info": {
   "codemirror_mode": {
    "name": "ipython",
    "version": 3
   },
   "file_extension": ".py",
   "mimetype": "text/x-python",
   "name": "python",
   "nbconvert_exporter": "python",
   "pygments_lexer": "ipython3",
   "version": "3.10.12"
  }
 },
 "nbformat": 4,
 "nbformat_minor": 5
}
