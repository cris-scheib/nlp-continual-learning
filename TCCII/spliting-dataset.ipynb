{
 "cells": [
  {
   "cell_type": "code",
   "execution_count": 5,
   "id": "eaf86df3",
   "metadata": {},
   "outputs": [],
   "source": [
    "import pandas as pd\n",
    "from sklearn.utils import shuffle"
   ]
  },
  {
   "cell_type": "code",
   "execution_count": 21,
   "id": "f177587b",
   "metadata": {},
   "outputs": [],
   "source": [
    "dataset = pd.read_csv('data/dataset.csv')"
   ]
  },
  {
   "cell_type": "code",
   "execution_count": 6,
   "id": "ae6f4c93",
   "metadata": {},
   "outputs": [],
   "source": [
    "dataset = shuffle(dataset)"
   ]
  },
  {
   "cell_type": "code",
   "execution_count": null,
   "id": "ff90b17d",
   "metadata": {},
   "outputs": [],
   "source": [
    "def insertData(writer, start, end):\n",
    "    for index, row in dataset.iloc[start, end].iterrows():\n",
    "        #Get the answers for the question\n",
    "        r_answers = reddit_answers.loc[reddit_answers['q_id'] == row['id']]\n",
    "\n",
    "        #Remove the invalid answers\n",
    "        r_answers = r_answers.drop(r_answers[r_answers.text.str.len() < 15].index)\n",
    "\n",
    "        #Get the best voted\n",
    "        r_answers = r_answers[r_answers['votes'] > r_answers.loc[:, 'votes'].mean()]\n",
    "\n",
    "        for i, r in r_answers.iterrows(): \n",
    "            writer.writerow([row['text'], r['text']])"
   ]
  },
  {
   "cell_type": "code",
   "execution_count": 8,
   "id": "dc1b56c6",
   "metadata": {},
   "outputs": [
    {
     "data": {
      "text/plain": [
       "1149819"
      ]
     },
     "execution_count": 8,
     "metadata": {},
     "output_type": "execute_result"
    }
   ],
   "source": [
    "def writeFile(index, start, end):\n",
    "    filename = f'dataset-230k-{index}.csv'\n",
    "    csvfile = open(f'data/fraction/{filename}', 'w')\n",
    "    writer = csv.writer(csvfile)\n",
    "    writer.writerow(['question', 'answer'])\n",
    "\n",
    "    insertData(writer, start, end)\n",
    "\n",
    "    csvfile.close()"
   ]
  },
  {
   "cell_type": "code",
   "execution_count": 16,
   "id": "e92e029b",
   "metadata": {},
   "outputs": [],
   "source": [
    "filesize = 230000"
   ]
  },
  {
   "cell_type": "code",
   "execution_count": 18,
   "id": "236f826a",
   "metadata": {},
   "outputs": [
    {
     "name": "stdout",
     "output_type": "stream",
     "text": [
      "0 230000\n",
      "230000 460000\n",
      "460000 690000\n",
      "690000 920000\n",
      "920000 -1\n"
     ]
    }
   ],
   "source": [
    "for i in range(5):\n",
    "    start = i * filesize\n",
    "    end = (i * filesize) + filesize\n",
    "    if end > len(dataset):\n",
    "        end = -1\n",
    "    writeFile(i, start, end)"
   ]
  },
  {
   "cell_type": "code",
   "execution_count": 23,
   "id": "25c9f14f",
   "metadata": {},
   "outputs": [
    {
     "data": {
      "text/html": [
       "<div>\n",
       "<style scoped>\n",
       "    .dataframe tbody tr th:only-of-type {\n",
       "        vertical-align: middle;\n",
       "    }\n",
       "\n",
       "    .dataframe tbody tr th {\n",
       "        vertical-align: top;\n",
       "    }\n",
       "\n",
       "    .dataframe thead th {\n",
       "        text-align: right;\n",
       "    }\n",
       "</style>\n",
       "<table border=\"1\" class=\"dataframe\">\n",
       "  <thead>\n",
       "    <tr style=\"text-align: right;\">\n",
       "      <th></th>\n",
       "      <th>question</th>\n",
       "      <th>answer</th>\n",
       "    </tr>\n",
       "  </thead>\n",
       "  <tbody>\n",
       "    <tr>\n",
       "      <th>0</th>\n",
       "      <td>What's the purpose of life?</td>\n",
       "      <td>idk. try to figure out how to be happy while w...</td>\n",
       "    </tr>\n",
       "    <tr>\n",
       "      <th>1</th>\n",
       "      <td>What's the purpose of life?</td>\n",
       "      <td>The purpose of life is to produce complexity</td>\n",
       "    </tr>\n",
       "    <tr>\n",
       "      <th>2</th>\n",
       "      <td>What's the purpose of life?</td>\n",
       "      <td>The same purpose that the first replicating mo...</td>\n",
       "    </tr>\n",
       "    <tr>\n",
       "      <th>3</th>\n",
       "      <td>What's the purpose of life?</td>\n",
       "      <td>Have fun and help others, change the world for...</td>\n",
       "    </tr>\n",
       "    <tr>\n",
       "      <th>4</th>\n",
       "      <td>I've tried to quit smoking, this is my seventh...</td>\n",
       "      <td>\"I smoked for 12y then stopped. It all about w...</td>\n",
       "    </tr>\n",
       "  </tbody>\n",
       "</table>\n",
       "</div>"
      ],
      "text/plain": [
       "                                            question  \\\n",
       "0                        What's the purpose of life?   \n",
       "1                        What's the purpose of life?   \n",
       "2                        What's the purpose of life?   \n",
       "3                        What's the purpose of life?   \n",
       "4  I've tried to quit smoking, this is my seventh...   \n",
       "\n",
       "                                              answer  \n",
       "0  idk. try to figure out how to be happy while w...  \n",
       "1       The purpose of life is to produce complexity  \n",
       "2  The same purpose that the first replicating mo...  \n",
       "3  Have fun and help others, change the world for...  \n",
       "4  \"I smoked for 12y then stopped. It all about w...  "
      ]
     },
     "execution_count": 23,
     "metadata": {},
     "output_type": "execute_result"
    }
   ],
   "source": [
    "dataset.head()"
   ]
  },
  {
   "cell_type": "code",
   "execution_count": null,
   "id": "b9d1d35f",
   "metadata": {},
   "outputs": [],
   "source": []
  }
 ],
 "metadata": {
  "kernelspec": {
   "display_name": "Python 3 (ipykernel)",
   "language": "python",
   "name": "python3"
  },
  "language_info": {
   "codemirror_mode": {
    "name": "ipython",
    "version": 3
   },
   "file_extension": ".py",
   "mimetype": "text/x-python",
   "name": "python",
   "nbconvert_exporter": "python",
   "pygments_lexer": "ipython3",
   "version": "3.10.6"
  }
 },
 "nbformat": 4,
 "nbformat_minor": 5
}
