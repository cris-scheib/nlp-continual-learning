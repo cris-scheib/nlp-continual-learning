{
 "cells": [
  {
   "cell_type": "code",
   "execution_count": 103,
   "metadata": {},
   "outputs": [],
   "source": [
    "import math\n",
    "import os\n",
    "import pandas as pd\n",
    "import numpy as np\n",
    "import random\n",
    "import nltk\n",
    "from nltk.translate.bleu_score import sentence_bleu\n",
    "from nltk.translate.bleu_score import SmoothingFunction\n",
    "import matplotlib.pyplot as plt\n",
    "import matplotlib.ticker as ticker\n",
    "from sklearn.utils import shuffle\n",
    "import nltk\n",
    "import tensorflow as tf\n",
    "from tensorflow import keras\n",
    "from keras.layers import Input, GRU, Dense, Embedding\n",
    "from keras.utils import  pad_sequences\n",
    "from keras.preprocessing.text import Tokenizer\n",
    "from keras.models import Model\n",
    "from sklearn.model_selection import train_test_split"
   ]
  },
  {
   "cell_type": "markdown",
   "metadata": {},
   "source": [
    "### Loading the Dataset\n",
    "Here we load the data from the `dataset.csv` file (generated in the other script)"
   ]
  },
  {
   "cell_type": "code",
   "execution_count": null,
   "metadata": {},
   "outputs": [],
   "source": [
    "def load_data():\n",
    "    return pd.read_csv('data/dataset.csv')"
   ]
  },
  {
   "cell_type": "code",
   "execution_count": null,
   "metadata": {},
   "outputs": [],
   "source": [
    "def load_vocabulary():\n",
    "    vocabulary = list()\n",
    "    with open('data/vocab-30k.txt', encoding='utf-8') as f:\n",
    "        for line in f:\n",
    "            vocabulary.append(line.strip())\n",
    "    return vocabulary"
   ]
  },
  {
   "cell_type": "markdown",
   "metadata": {},
   "source": [
    "### Data pre-processing\n",
    "Transform to lower, remove the new line and the punctuation"
   ]
  },
  {
   "cell_type": "code",
   "execution_count": null,
   "metadata": {},
   "outputs": [],
   "source": [
    "def lower_data(data):\n",
    "    return data.str.lower() \n",
    "    \n",
    "def clean_data(data):\n",
    "    return data.str.replace(',', ' , ')                \\\n",
    "                .str.replace('.',' . ', regex=False)  \\\n",
    "                .str.replace('?',' ? ', regex=False)   \\\n",
    "                .str.replace(\"''\",' ', regex=False)   \\\n",
    "                .str.replace(r\"(\\s)'|'(\\s)\",' ', regex=True) \\\n",
    "                .str.replace(r\"[^a-zA-Z0-9?'.,]+\",' ',regex=True)\n",
    "\n",
    "def get_data():\n",
    "    data = load_data()\n",
    "    for column in data.columns:    \n",
    "        data[column] = lower_data(data[column])\n",
    "        data[column] = clean_data(data[column])\n",
    "    return shuffle(data)"
   ]
  },
  {
   "cell_type": "markdown",
   "metadata": {},
   "source": [
    "### Data analysis\n",
    "Mean sentence length and standard deviation of sentence length"
   ]
  },
  {
   "cell_type": "code",
   "execution_count": null,
   "metadata": {},
   "outputs": [],
   "source": [
    "def print_data_analysis(clean=True):\n",
    "    data = get_data()\n",
    "    if clean: \n",
    "        data = remove_outliers(data)\n",
    "    print('Central tendency, dispersion and shape of questions’s distribution')\n",
    "    print(data['question'].str.len().describe().apply(lambda x: format(x, 'f')))\n",
    "    print('-'*100)\n",
    "    print('Central tendency, dispersion and shape of answers’s distribution')\n",
    "    print(data['answer'].str.len().describe().apply(lambda x: format(x, 'f')))"
   ]
  },
  {
   "cell_type": "code",
   "execution_count": null,
   "metadata": {
    "scrolled": true
   },
   "outputs": [],
   "source": [
    "#print_data_analysis()"
   ]
  },
  {
   "cell_type": "code",
   "execution_count": null,
   "metadata": {},
   "outputs": [],
   "source": [
    "def remove_outliers(data):\n",
    "    return data[(data['question'].str.len() < 100) & (data['question'].str.len() > 10) & (data['answer'].str.len() < 200) & (data['answer'].str.len() > 10)]\n",
    "\n",
    "def padd_data(data):\n",
    "    data = data.assign(question = '<start> ' + data.question  + ' <end>')\n",
    "    data = data.assign(answer = '<start> ' + data.answer  + ' <end>')\n",
    "    return data"
   ]
  },
  {
   "cell_type": "code",
   "execution_count": null,
   "metadata": {},
   "outputs": [],
   "source": [
    "import unicodedata\n",
    "import re\n",
    "\n",
    "# Convert the unicode sequence to ascii\n",
    "def unicode_to_ascii(s):\n",
    "\n",
    "    # Normalize the unicode string and remove the non-spacking mark\n",
    "    return ''.join(c for c in unicodedata.normalize('NFD', s)\n",
    "        if unicodedata.category(c) != 'Mn')\n",
    "\n",
    "# Preprocess the sequence\n",
    "def preprocess_sentence(w):\n",
    "    \n",
    "    # Clean the sequence\n",
    "    w = unicode_to_ascii(w.lower().strip())\n",
    "\n",
    "    # Create a space between word and the punctuation following it\n",
    "    w = re.sub(r\"([?.!,¿])\", r\" \\1 \", w)\n",
    "    w = re.sub(r'[\" \"]+', \" \", w)\n",
    "\n",
    "    # Replace everything with space except (a-z, A-Z, \".\", \"?\", \"!\", \",\")\n",
    "    w = re.sub(r\"[^a-zA-Z?.!,¿]+\", \" \", w)\n",
    "\n",
    "    w = w.strip()\n",
    "    vocabulary = load_vocabulary()\n",
    "    \n",
    "    sent = [word if word in vocabulary else '<unk>' for word in w.split(' ')]\n",
    "\n",
    "    # Add a start and stop token to detect the start and end of the sequence\n",
    "    w = '<start> ' + ' '.join(sent) + ' <end>'\n",
    "    return w"
   ]
  },
  {
   "cell_type": "markdown",
   "metadata": {},
   "source": [
    "### Creating the dataset\n",
    "Removing the outliers and adding <start> and <end> for each question, awnser pair"
   ]
  },
  {
   "cell_type": "code",
   "execution_count": null,
   "metadata": {},
   "outputs": [],
   "source": [
    "def create_dataset(num_examples):\n",
    "    dataset = remove_outliers(get_data())\n",
    "    dataset = padd_data(dataset)\n",
    "    return dataset['question'].tolist(), dataset['answer'].tolist()"
   ]
  },
  {
   "cell_type": "markdown",
   "metadata": {},
   "source": [
    "### Tokenizing \n",
    "Tokenize the data, padd the sequence and create the vocabulary"
   ]
  },
  {
   "cell_type": "code",
   "execution_count": null,
   "metadata": {},
   "outputs": [],
   "source": [
    "def load_tokenize(vocabulary):\n",
    "    tokenizer = Tokenizer(filters='!\"#$%&()*+-:;=@[\\\\]^_{|}~\\t')\n",
    "  \n",
    "    # Convert sequences into internal vocab\n",
    "    tokenizer.fit_on_texts(vocabulary)\n",
    "\n",
    "    return tokenizer"
   ]
  },
  {
   "cell_type": "code",
   "execution_count": null,
   "metadata": {},
   "outputs": [],
   "source": [
    "def tokenize(text, tokenizer):\n",
    "\n",
    "    # Convert internal vocab to numbers\n",
    "    tensor = tokenizer.texts_to_sequences(text)\n",
    "\n",
    "    # Pad the tensors to assign equal length to all the sequences\n",
    "    tensor = tf.keras.preprocessing.sequence.pad_sequences(tensor, padding='post', truncating='post',maxlen=None)\n",
    "\n",
    "    return tensor"
   ]
  },
  {
   "cell_type": "markdown",
   "metadata": {},
   "source": [
    "### Load the clean and formated data "
   ]
  },
  {
   "cell_type": "code",
   "execution_count": null,
   "metadata": {},
   "outputs": [],
   "source": [
    "def load_dataset(num_examples=None):\n",
    " \n",
    "    questions, answers = create_dataset(num_examples=None)\n",
    "    vocabulary = load_vocabulary()\n",
    "    \n",
    "    #Create the tokenizer for inputs and outputs\n",
    "    tokenizer = load_tokenize(vocabulary)\n",
    "    \n",
    "    questions_tensor = tokenize(questions, tokenizer)\n",
    "    answers_tensor = tokenize(answers, tokenizer)\n",
    "\n",
    "    return questions_tensor, answers_tensor, tokenizer"
   ]
  },
  {
   "cell_type": "code",
   "execution_count": null,
   "metadata": {},
   "outputs": [],
   "source": [
    "questions_tensor, answers_tensor, tokenizer = load_dataset()"
   ]
  },
  {
   "cell_type": "markdown",
   "metadata": {},
   "source": [
    "### Split in train and test\n",
    "Split 80% of the data to train and 20% for testing"
   ]
  },
  {
   "cell_type": "code",
   "execution_count": null,
   "metadata": {},
   "outputs": [],
   "source": [
    "max_length_input, max_length_target = questions_tensor.shape[1], answers_tensor.shape[1]\n",
    "input_train, input_test, target_train, target_test = train_test_split(questions_tensor, answers_tensor, test_size=0.2)\n",
    "\n",
    "print(\"Test count:\", len(input_train))\n",
    "print(\"Train count:\", len(input_test))\n"
   ]
  },
  {
   "cell_type": "code",
   "execution_count": null,
   "metadata": {},
   "outputs": [],
   "source": [
    "def convert(text, tensor):\n",
    "    for t in tensor:\n",
    "        if t != 0:\n",
    "            print (\"%d ----> %s\" % (t, text.index_word[t]))\n",
    "      \n",
    "print(\"Input question; index to word mapping\")\n",
    "convert(tokenizer, input_train[0])\n",
    "print()\n",
    "print(\"Target awnser; index to word mapping\")\n",
    "convert(tokenizer, target_train[0])"
   ]
  },
  {
   "cell_type": "markdown",
   "metadata": {},
   "source": [
    "### Setting the hyperparameter"
   ]
  },
  {
   "cell_type": "code",
   "execution_count": null,
   "metadata": {},
   "outputs": [],
   "source": [
    "BUFFER_SIZE = len(input_train)\n",
    "BATCH_SIZE = 64\n",
    "steps_per_epoch = len(input_train)//BATCH_SIZE\n",
    "embedding_dim = 256\n",
    "units = 1024\n",
    "vocab_input_size = len(tokenizer.word_index) + 1\n",
    "vocab_target_size = len(tokenizer.word_index) + 1"
   ]
  },
  {
   "cell_type": "code",
   "execution_count": null,
   "metadata": {},
   "outputs": [],
   "source": [
    "dataset = tf.data.Dataset.from_tensor_slices((input_train, target_train)).shuffle(BUFFER_SIZE)\n",
    "dataset = dataset.batch(BATCH_SIZE, drop_remainder=True)"
   ]
  },
  {
   "cell_type": "code",
   "execution_count": null,
   "metadata": {},
   "outputs": [],
   "source": [
    "example_input_batch, example_target_batch = next(iter(dataset))\n",
    "example_input_batch.shape, example_target_batch.shape"
   ]
  },
  {
   "cell_type": "code",
   "execution_count": null,
   "metadata": {},
   "outputs": [],
   "source": [
    "class Encoder(tf.keras.Model):\n",
    "    def __init__(self, vocab_size, embedding_dim, encoder_units, batch_size):\n",
    "        super(Encoder, self).__init__()\n",
    "        self.batch_size = batch_size\n",
    "        self.encoder_units = encoder_units\n",
    "\n",
    "        # Embed the vocab to a dense embedding \n",
    "        self.embedding = Embedding(vocab_size, embedding_dim)\n",
    "\n",
    "        # GRU Layer\n",
    "        # glorot_uniform: Initializer for the recurrent_kernel weights matrix, \n",
    "        # used for the linear transformation of the recurrent state\n",
    "        self.gru = GRU(self.encoder_units,\n",
    "                                   return_sequences=True,\n",
    "                                   return_state=True,\n",
    "                                   recurrent_initializer='glorot_uniform')\n",
    "\n",
    "    # Encoder network comprises an Embedding layer followed by a GRU layer\n",
    "    def call(self, x, hidden):\n",
    "        x = self.embedding(x)\n",
    "        output, state = self.gru(x, initial_state=hidden)\n",
    "        return output, state\n",
    "\n",
    "    # To initialize the hidden state\n",
    "    def initialize_hidden_state(self):\n",
    "        return tf.zeros((self.batch_size, self.encoder_units))"
   ]
  },
  {
   "cell_type": "code",
   "execution_count": null,
   "metadata": {},
   "outputs": [],
   "source": [
    "encoder = Encoder(vocab_input_size, embedding_dim, units, BATCH_SIZE)\n",
    "\n",
    "sample_hidden = encoder.initialize_hidden_state()\n",
    "sample_output, sample_hidden = encoder(example_input_batch, sample_hidden)\n",
    "\n",
    "print ('Encoder output shape: (batch size, sequence length, units) {}'.format(sample_output.shape))\n",
    "print ('Encoder Hidden state shape: (batch size, units) {}'.format(sample_hidden.shape))\n"
   ]
  },
  {
   "cell_type": "code",
   "execution_count": null,
   "metadata": {},
   "outputs": [],
   "source": [
    "# Attention Mechanism\n",
    "class SelfAttention(tf.keras.layers.Layer):\n",
    "    def __init__(self, units):\n",
    "        super(SelfAttention, self).__init__()\n",
    "        self.W1 = tf.keras.layers.Dense(units)\n",
    "        self.W2 = tf.keras.layers.Dense(units)\n",
    "        self.V = tf.keras.layers.Dense(1)\n",
    "\n",
    "    def call(self, query, values):\n",
    "        # query hidden state shape == (batch_size, hidden size)\n",
    "        # values shape == (batch_size, max_len, hidden size)\n",
    "\n",
    "        # we are doing this to broadcast addition along the time axis to calculate the score\n",
    "        # query_with_time_axis shape == (batch_size, 1, hidden size)\n",
    "        query_with_time_axis = tf.expand_dims(query, 1)\n",
    "\n",
    "        # score shape == (batch_size, max_length, 1)\n",
    "        # we get 1 at the last axis because we are applying score to self.V\n",
    "        # the shape of the tensor before applying self.V is (batch_size, max_length, units)\n",
    "        score = self.V(tf.nn.tanh(\n",
    "            self.W1(query_with_time_axis) + self.W2(values)))\n",
    "\n",
    "        # attention_weights shape == (batch_size, max_length, 1)\n",
    "        attention_weights = tf.nn.softmax(score, axis=1)\n",
    "\n",
    "        # context_vector shape after sum == (batch_size, hidden_size)\n",
    "        context_vector = attention_weights * values\n",
    "        context_vector = tf.reduce_sum(context_vector, axis=1)\n",
    "\n",
    "        return context_vector, attention_weights"
   ]
  },
  {
   "cell_type": "code",
   "execution_count": null,
   "metadata": {},
   "outputs": [],
   "source": [
    "attention_layer = SelfAttention(10)\n",
    "attention_result, attention_weights = attention_layer(sample_hidden, sample_output)\n",
    "\n",
    "print(\"Attention result shape: (batch size, units) {}\".format(attention_result.shape))\n",
    "print(\"Attention weights shape: (batch_size, sequence_length, 1) {}\".format(attention_weights.shape))"
   ]
  },
  {
   "cell_type": "code",
   "execution_count": null,
   "metadata": {},
   "outputs": [],
   "source": [
    "# Decoder class\n",
    "class Decoder(tf.keras.Model):\n",
    "    def __init__(self, vocab_size, embedding_dim, dec_units, batch_sz):\n",
    "        super(Decoder, self).__init__()\n",
    "        self.batch_sz = batch_sz\n",
    "        self.dec_units = dec_units\n",
    "        self.embedding = tf.keras.layers.Embedding(vocab_size, embedding_dim)\n",
    "        self.gru = tf.keras.layers.GRU(self.dec_units,\n",
    "                                       return_sequences=True,\n",
    "                                       return_state=True,\n",
    "                                       recurrent_initializer='glorot_uniform')\n",
    "        self.fc = tf.keras.layers.Dense(vocab_size)\n",
    "\n",
    "        # Used for attention\n",
    "        self.attention = SelfAttention(self.dec_units)\n",
    "\n",
    "    def call(self, x, hidden, enc_output):\n",
    "        # x shape == (batch_size, 1)\n",
    "        # hidden shape == (batch_size, max_length)\n",
    "        # enc_output shape == (batch_size, max_length, hidden_size)\n",
    "\n",
    "        # context_vector shape == (batch_size, hidden_size)\n",
    "        # attention_weights shape == (batch_size, max_length, 1)\n",
    "        context_vector, attention_weights = self.attention(hidden, enc_output)\n",
    "\n",
    "        # x shape after passing through embedding == (batch_size, 1, embedding_dim)\n",
    "        x = self.embedding(x)\n",
    "\n",
    "        # x shape after concatenation == (batch_size, 1, embedding_dim + hidden_size)\n",
    "        x = tf.concat([tf.expand_dims(context_vector, 1), x], axis=-1)\n",
    "\n",
    "        # passing the concatenated vector to the GRU\n",
    "        output, state = self.gru(x)\n",
    "\n",
    "        # output shape == (batch_size * 1, hidden_size)\n",
    "        output = tf.reshape(output, (-1, output.shape[2]))\n",
    "\n",
    "        # output shape == (batch_size, vocab)\n",
    "        x = self.fc(output)\n",
    "\n",
    "        return x, state, attention_weights"
   ]
  },
  {
   "cell_type": "code",
   "execution_count": null,
   "metadata": {},
   "outputs": [],
   "source": [
    "decoder = Decoder(vocab_target_size, embedding_dim, units, BATCH_SIZE)\n",
    "\n",
    "sample_decoder_output, _, _ = decoder(tf.random.uniform((BATCH_SIZE, 1)),\n",
    "                                      sample_hidden, sample_output)\n",
    "\n",
    "print ('Decoder output shape: (batch_size, vocab size) {}'.format(sample_decoder_output.shape))"
   ]
  },
  {
   "cell_type": "code",
   "execution_count": null,
   "metadata": {},
   "outputs": [],
   "source": [
    "# Initialize optimizer and loss functions\n",
    "optimizer = tf.keras.optimizers.Adam()\n",
    "\n",
    "loss_object = tf.keras.losses.SparseCategoricalCrossentropy(from_logits=True, reduction='none')\n",
    "\n",
    "# Loss function\n",
    "def loss_function(real, pred):\n",
    "\n",
    "    # Take care of the padding. Not all sequences are of equal length.\n",
    "    # If there's a '0' in the sequence, the loss is being nullified\n",
    "    mask = tf.math.logical_not(tf.math.equal(real, 0))\n",
    "    loss_ = loss_object(real, pred)\n",
    "\n",
    "    mask = tf.cast(mask, dtype=loss_.dtype)\n",
    "    loss_ *= mask\n",
    "\n",
    "    return tf.reduce_mean(loss_)"
   ]
  },
  {
   "cell_type": "code",
   "execution_count": null,
   "metadata": {},
   "outputs": [],
   "source": [
    "@tf.function\n",
    "def train_step(inp, targ, enc_hidden):\n",
    "    loss = 0\n",
    "\n",
    "    # tf.GradientTape() -- record operations for automatic differentiation\n",
    "    with tf.GradientTape() as tape:\n",
    "        enc_output, enc_hidden = encoder(inp, enc_hidden)\n",
    "\n",
    "        # dec_hidden is used by attention, hence is the same enc_hidden\n",
    "        dec_hidden = enc_hidden\n",
    "\n",
    "        # <start> token is the initial decoder input\n",
    "        dec_input = tf.expand_dims([tokenizer.word_index['<start>']] * BATCH_SIZE, 1)\n",
    "\n",
    "        # Teacher forcing - feeding the target as the next input\n",
    "        for t in range(1, targ.shape[1]):\n",
    "\n",
    "            # Pass enc_output to the decoder\n",
    "            predictions, dec_hidden, _ = decoder(dec_input, dec_hidden, enc_output)\n",
    "\n",
    "            # Compute the loss\n",
    "\n",
    "            print(K.eval(targ[:, t]))\n",
    "            \n",
    "            break;\n",
    "\n",
    "            loss += loss_function(targ[:, t], predictions)\n",
    "\n",
    "            # Use teacher forcing\n",
    "            dec_input = tf.expand_dims(targ[:, t], 1)\n",
    "\n",
    "    # As this function is called per batch, compute the batch_loss\n",
    "    batch_loss = (loss / int(targ.shape[1]))\n",
    "\n",
    "    # Get the model's variables\n",
    "    variables = encoder.trainable_variables + decoder.trainable_variables\n",
    "\n",
    "    # Compute the gradients\n",
    "    gradients = tape.gradient(loss, variables)\n",
    "\n",
    "    # Update the variables of the model/network\n",
    "    optimizer.apply_gradients(zip(gradients, variables))\n",
    "\n",
    "    return batch_loss"
   ]
  },
  {
   "cell_type": "code",
   "execution_count": null,
   "metadata": {},
   "outputs": [],
   "source": [
    "checkpoint_dir = './training_checkpoints'\n",
    "checkpoint = tf.train.Checkpoint(optimizer=optimizer, encoder=encoder, decoder=decoder)\n",
    "manager = tf.train.CheckpointManager(checkpoint, directory=checkpoint_dir, max_to_keep=10)\n",
    "checkpoint.restore(manager.latest_checkpoint)"
   ]
  },
  {
   "cell_type": "code",
   "execution_count": null,
   "metadata": {},
   "outputs": [],
   "source": [
    "import time\n",
    "#EPOCHS = 1\n",
    "\n",
    "# Training loop\n",
    "with tf.device('/cpu:0'):\n",
    "    for epoch in range(EPOCHS):\n",
    "        start = time.time()\n",
    "\n",
    "        # Initialize the hidden state\n",
    "        enc_hidden = encoder.initialize_hidden_state()\n",
    "        total_loss = 0\n",
    "\n",
    "        # Loop through the dataset\n",
    "        for (batch, (inp, targ)) in enumerate(dataset.take(steps_per_epoch)):\n",
    "\n",
    "            # Call the train method\n",
    "            batch_loss = train_step(inp, targ, enc_hidden)\n",
    "\n",
    "            # Compute the loss (per batch)\n",
    "            total_loss += batch_loss\n",
    "\n",
    "            if batch % 100 == 0:\n",
    "                print('Epoch {} Batch {} Loss {:.4f}'.format(epoch + 1, batch, batch_loss.numpy()))\n",
    "\n",
    "        # Save (checkpoint) the model every 2 epochs\n",
    "        if (epoch + 1) % 2 == 0:\n",
    "            manager.save()\n",
    "\n",
    "        # Output the loss observed until that epoch\n",
    "        print('Epoch {} Loss {:.4f}'.format(epoch + 1, total_loss / steps_per_epoch))\n",
    "\n",
    "        print('Time taken for 1 epoch {} sec\\n'.format(time.time() - start))"
   ]
  },
  {
   "cell_type": "code",
   "execution_count": 112,
   "metadata": {},
   "outputs": [],
   "source": [
    "import numpy as np\n",
    "\n",
    "# Evaluate function -- similar to the training loop\n",
    "def evaluate(sentence):\n",
    "\n",
    "    # Attention plot (to be plotted later on) -- initialized with max_lengths of both target and input\n",
    "    attention_plot = np.zeros((max_length_target, max_length_input))\n",
    "\n",
    "    # Preprocess the sentence given\n",
    "    sentence = preprocess_sentence(sentence)\n",
    "\n",
    "    # Fetch the indices concerning the words in the sentence and pad the sequence\n",
    "    inputs = [tokenizer.word_index[i] for i in sentence.split(' ')]\n",
    "    inputs = tf.keras.preprocessing.sequence.pad_sequences([inputs],\n",
    "                                                         maxlen=max_length_input,\n",
    "                                                         padding='post')\n",
    "    # Convert the inputs to tensors\n",
    "    inputs = tf.convert_to_tensor(inputs)\n",
    "\n",
    "    prediction_percentages = []\n",
    "    \n",
    "    result = ''\n",
    "\n",
    "    hidden = [tf.zeros((1, units))]\n",
    "    enc_out, enc_hidden = encoder(inputs, hidden)\n",
    "\n",
    "    dec_hidden = enc_hidden\n",
    "    dec_input = tf.expand_dims([tokenizer.word_index['<start>']], 0)\n",
    "\n",
    "    # Loop until the max_length is reached for the target lang (ENGLISH)\n",
    "    for t in range(max_length_target):\n",
    "        predictions, dec_hidden, attention_weights = decoder(dec_input, dec_hidden, enc_out)\n",
    "\n",
    "        \n",
    "        # Store the attention weights to plot later on\n",
    "        attention_weights = tf.reshape(attention_weights, (-1, ))\n",
    "        attention_plot[t] = attention_weights.numpy()\n",
    "\n",
    "        # Get the prediction with the maximum attention\n",
    "        predicted_id = tf.argmax(predictions[0]).numpy()\n",
    "        \n",
    "        prediction_percentage = predictions[0].numpy()\n",
    "        prediction_percentages.append(prediction_percentage)\n",
    "        \n",
    "        # Append the token to the result\n",
    "        result += tokenizer.index_word[predicted_id] + ' '\n",
    "\n",
    "        # If <end> token is reached, return the result, input, and attention plot\n",
    "        if tokenizer.index_word[predicted_id] == '<end>':\n",
    "            return result, sentence, attention_plot, prediction_percentages\n",
    "\n",
    "        # The predicted ID is fed back into the model\n",
    "        dec_input = tf.expand_dims([predicted_id], 0)\n",
    "        \n",
    "    return result, sentence, attention_plot, prediction_percentages"
   ]
  },
  {
   "cell_type": "code",
   "execution_count": null,
   "metadata": {},
   "outputs": [],
   "source": [
    "# Function for plotting the attention weights\n",
    "def plot_attention(attention, sentence, predicted_sentence):\n",
    "    fig = plt.figure(figsize=(10,10))\n",
    "    ax = fig.add_subplot(1, 1, 1)\n",
    "    ax.matshow(attention, cmap='viridis')\n",
    "\n",
    "    fontdict = {'fontsize': 14}\n",
    "\n",
    "    ax.set_xticklabels([''] + sentence, fontdict=fontdict, rotation=90)\n",
    "    ax.set_yticklabels([''] + predicted_sentence, fontdict=fontdict)\n",
    "\n",
    "    ax.xaxis.set_major_locator(ticker.MultipleLocator(1))\n",
    "    ax.yaxis.set_major_locator(ticker.MultipleLocator(1))\n",
    "\n",
    "    plt.show()\n",
    "    \n",
    "# Function for plotting the loss values\n",
    "def plot_loss(loss_values):\n",
    "    plt.plot(loss_values)\n",
    "\n",
    "    plt.xlabel('Epocs',fontsize=11)\n",
    "    plt.ylabel('Loss',fontsize=11)\n",
    "    plt.tight_layout()\n",
    "    plt.margins(x=0.01, y=0.5)\n",
    "\n",
    "    plt.show()\n",
    "    \n",
    "# Function for plotting the loss values\n",
    "def plot_precision(loss_values):\n",
    "    plt.plot(loss_values)\n",
    "\n",
    "    plt.xlabel('Epocs',fontsize=11)\n",
    "    plt.ylabel('Loss',fontsize=11)\n",
    "    plt.tight_layout()\n",
    "    plt.margins(x=0.01, y=0.5)\n",
    "\n",
    "    plt.show()"
   ]
  },
  {
   "cell_type": "code",
   "execution_count": 100,
   "metadata": {},
   "outputs": [],
   "source": [
    "def response(sentence, print_out=False):\n",
    "    result, sentence, attention_plot, prediction_percentages = evaluate(sentence)\n",
    "    return result, attention_plot, prediction_percentages"
   ]
  },
  {
   "cell_type": "code",
   "execution_count": null,
   "metadata": {},
   "outputs": [],
   "source": [
    "def bleu_score(expected, predicted):\n",
    "    expected = [expected.split()]\n",
    "    predicted = predicted.split()\n",
    "    return sentence_bleu(expected, predicted, smoothing_function=SmoothingFunction().method4)"
   ]
  },
  {
   "cell_type": "code",
   "execution_count": 85,
   "metadata": {},
   "outputs": [],
   "source": [
    "def prediction_precision(prediction):\n",
    "    standard_percentages = [np.std(percentage) for percentage in prediction]\n",
    "    return np.mean(np.array(standard_percentages))"
   ]
  },
  {
   "cell_type": "code",
   "execution_count": 123,
   "metadata": {},
   "outputs": [],
   "source": [
    "def remove_tags(sentence):\n",
    "    sentence = sentence.removeprefix('<start>')\n",
    "    sentence = sentence.removesuffix(' ')\n",
    "    sentence = sentence.removesuffix('<end>')\n",
    "    return sentence"
   ]
  },
  {
   "cell_type": "code",
   "execution_count": null,
   "metadata": {},
   "outputs": [],
   "source": [
    "# Restore the latest checkpoint in checkpoint_dir\n",
    "#checkpoint.restore(manager.latest_checkpoint)"
   ]
  },
  {
   "cell_type": "code",
   "execution_count": 101,
   "metadata": {},
   "outputs": [
    {
     "name": "stdout",
     "output_type": "stream",
     "text": [
      "<start> what are you doing tonight ? <end>\n",
      "Input: what are you doing tonight?\n",
      "Predicted awnser: i'll just use the perfect game <end> \n",
      "Predicted precision: 3.476536989212036\n"
     ]
    }
   ],
   "source": [
    "sentence = 'what are you doing tonight?'\n",
    "result, attention_plot, prediction_percentages = response(sentence)\n",
    "precision = prediction_precision(prediction_percentages)\n",
    "\n",
    "#Printing the result\n",
    "print('Input: %s' % (sentence))\n",
    "print('Predicted awnser: {}'.format(result))\n",
    "print('Predicted precision: {}'.format(precision))\n",
    "\n",
    "#Ploting the attention\n",
    "#attention_plot = attention_plot[:len(result.split(' ')), :len(sentence.split(' '))]\n",
    "#plot_attention(attention_plot, sentence.split(' '), result.split(' '))"
   ]
  },
  {
   "cell_type": "code",
   "execution_count": null,
   "metadata": {},
   "outputs": [],
   "source": [
    "#Ploting loss\n",
    "loss_file = open(\"loss.txt\", \"r\")\n",
    "data = loss_file.read()\n",
    "data_loss_list = data.split(\"\\n\")\n",
    "loss_file.close()\n",
    "\n",
    "data_loss_list = [i for i in data_loss_list if i]\n",
    "data_loss = [float(i) for i in data_loss_list]\n",
    "\n",
    "plot_loss(data_loss)"
   ]
  },
  {
   "cell_type": "code",
   "execution_count": 127,
   "metadata": {},
   "outputs": [
    {
     "name": "stdout",
     "output_type": "stream",
     "text": [
      "\n",
      "---------------\n",
      "Question:   redditors , what is the most cringe worthy moment you have ever been witness to in a nightclub ?  \n",
      "Real awnser:   when they turned the lights on .  \n",
      "Predicted awnser:  i'm gay . \n",
      "BLEU Score:  0.01911013349598245\n",
      "---------------\n",
      "\n",
      "---------------\n",
      "Question:   what songs have the best drum parts ?  \n",
      "Real awnser:   most blink 182 songs from enema of the state onward .  \n",
      "Predicted awnser:  danger win . \n",
      "BLEU Score:  0.0050373764985504645\n",
      "---------------\n",
      "\n",
      "---------------\n",
      "Question:   people from the usa how do you view the uk ?  \n",
      "Real awnser:   just rainy cloudy and tea \n",
      "Predicted awnser:  i was a bag of them in a bag of them in a bag of them in a bag of them in a bag of them in a bag of them in a bag of them in a bag of them in a bag of them in a bag of them in a bag of them in a bag of them in a bag of them in a bag of them in a bag of them in a bag of them in a bag of them in a bag of them in a bag of them\n",
      "BLEU Score:  0\n",
      "---------------\n",
      "\n",
      "---------------\n",
      "Question:   what kept you from dropping out of high school ?  \n",
      "Real awnser:   i did drop out of high school . now i have a master's degree and a meaningful career . there are lots of different paths to success .  \n",
      "Predicted awnser:  a joy now a restaurant and a joy now a restaurant and a joy now a restaurant and a joy now a restaurant and a joy now a restaurant and a joy now a restaurant and a joy now a restaurant and a joy now a restaurant and a joy now a restaurant and a joy now a restaurant and a joy now a restaurant and a joy now a restaurant and a joy now a restaurant and a joy now a restaurant and a joy now a restaurant and a joy now a restaurant and\n",
      "BLEU Score:  0.00850247712895202\n",
      "---------------\n",
      "\n",
      "---------------\n",
      "Question:   what nintendo 64 game would you not hesitate to play through to it's entirety today ?  \n",
      "Real awnser:   paper mario 64 , still one of the best rpgs ever made imo \n",
      "Predicted awnser:  a lot of a lot of a lot of a lot of a lot of a lot of a lot of a lot of a lot of a lot of a lot of a lot of a lot of a lot of a lot of a lot of a lot of a lot of a lot of a lot of a lot of a lot of a lot of a lot of a lot of a lot of a lot of a lot of a lot of a lot of a lot of a lot of\n",
      "BLEU Score:  0.003494299841535187\n",
      "---------------\n"
     ]
    }
   ],
   "source": [
    "questions, answers = create_dataset(num_examples=None)\n",
    "\n",
    "for i in range(5):\n",
    "    index = random.randint(0,len(questions))\n",
    "    result, _, _ = response(questions[index])\n",
    "    bleu = bleu_score(remove_tags(answers[index]), remove_tags(result))\n",
    "    print('\\n---------------')\n",
    "    print('Question: ', remove_tags(questions[index]))\n",
    "    print('Real awnser: ', remove_tags(answers[index]))\n",
    "    print('Predicted awnser: ', remove_tags(result))\n",
    "    print('BLEU Score: ', bleu)\n",
    "    print('---------------')"
   ]
  }
 ],
 "metadata": {
  "accelerator": "GPU",
  "colab": {
   "collapsed_sections": [],
   "machine_shape": "hm",
   "name": "chatbot.ipynb",
   "provenance": []
  },
  "kernelspec": {
   "display_name": "Python 3 (ipykernel)",
   "language": "python",
   "name": "python3"
  },
  "language_info": {
   "codemirror_mode": {
    "name": "ipython",
    "version": 3
   },
   "file_extension": ".py",
   "mimetype": "text/x-python",
   "name": "python",
   "nbconvert_exporter": "python",
   "pygments_lexer": "ipython3",
   "version": "3.10.12"
  }
 },
 "nbformat": 4,
 "nbformat_minor": 1
}
