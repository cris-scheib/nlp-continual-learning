{
 "cells": [
  {
   "cell_type": "code",
   "execution_count": 2,
   "metadata": {},
   "outputs": [
    {
     "name": "stderr",
     "output_type": "stream",
     "text": [
      "2023-11-17 15:47:10.974949: I tensorflow/core/platform/cpu_feature_guard.cc:193] This TensorFlow binary is optimized with oneAPI Deep Neural Network Library (oneDNN) to use the following CPU instructions in performance-critical operations:  AVX2 FMA\n",
      "To enable them in other operations, rebuild TensorFlow with the appropriate compiler flags.\n",
      "2023-11-17 15:47:11.874618: E tensorflow/stream_executor/cuda/cuda_blas.cc:2981] Unable to register cuBLAS factory: Attempting to register factory for plugin cuBLAS when one has already been registered\n",
      "2023-11-17 15:47:13.422790: W tensorflow/stream_executor/platform/default/dso_loader.cc:64] Could not load dynamic library 'libnvinfer.so.7'; dlerror: libnvinfer.so.7: cannot open shared object file: No such file or directory\n",
      "2023-11-17 15:47:13.422993: W tensorflow/stream_executor/platform/default/dso_loader.cc:64] Could not load dynamic library 'libnvinfer_plugin.so.7'; dlerror: libnvinfer_plugin.so.7: cannot open shared object file: No such file or directory\n",
      "2023-11-17 15:47:13.423011: W tensorflow/compiler/tf2tensorrt/utils/py_utils.cc:38] TF-TRT Warning: Cannot dlopen some TensorRT libraries. If you would like to use Nvidia GPU with TensorRT, please make sure the missing libraries mentioned above are installed properly.\n"
     ]
    }
   ],
   "source": [
    "import math\n",
    "import os\n",
    "import pandas as pd\n",
    "import numpy as np\n",
    "from statistics import mean \n",
    "import random\n",
    "import re\n",
    "import nltk\n",
    "from nltk.translate.bleu_score import sentence_bleu\n",
    "from nltk.translate.bleu_score import SmoothingFunction\n",
    "import matplotlib.pyplot as plt\n",
    "import matplotlib.ticker as ticker\n",
    "from sklearn.utils import shuffle\n",
    "import nltk\n",
    "import tensorflow as tf\n",
    "from tensorflow import keras\n",
    "from keras.layers import Input, GRU, Dense, Embedding\n",
    "from keras.utils import  pad_sequences\n",
    "from keras.preprocessing.text import Tokenizer\n",
    "from keras.models import Model\n",
    "from sklearn.model_selection import train_test_split"
   ]
  },
  {
   "cell_type": "markdown",
   "metadata": {},
   "source": [
    "### Loading the Dataset\n",
    "Here we load the data from the `dataset.csv` file (generated in the other script)"
   ]
  },
  {
   "cell_type": "code",
   "execution_count": 2,
   "metadata": {},
   "outputs": [],
   "source": [
    "def load_data():\n",
    "    return pd.read_csv('data/dataset.csv')"
   ]
  },
  {
   "cell_type": "code",
   "execution_count": 3,
   "metadata": {},
   "outputs": [],
   "source": [
    "def load_online_learning_data():\n",
    "    return pd.read_csv('data/dataset-online-learning.csv')"
   ]
  },
  {
   "cell_type": "code",
   "execution_count": 4,
   "metadata": {},
   "outputs": [],
   "source": [
    "def load_vocabulary():\n",
    "    vocabulary = list()\n",
    "    with open('data/vocab-30k.txt', encoding='utf-8') as f:\n",
    "        for line in f:\n",
    "            vocabulary.append(line.strip())\n",
    "    return vocabulary"
   ]
  },
  {
   "cell_type": "markdown",
   "metadata": {},
   "source": [
    "### Data pre-processing\n",
    "Transform to lower, remove the new line and the punctuation"
   ]
  },
  {
   "cell_type": "code",
   "execution_count": 5,
   "metadata": {},
   "outputs": [],
   "source": [
    "def lower_data(data):\n",
    "    return data.str.lower() \n",
    "    \n",
    "def clean_data(data):\n",
    "    return data.str.replace(',', ' , ')                \\\n",
    "                .str.replace('.',' . ', regex=False)  \\\n",
    "                .str.replace('?',' ? ', regex=False)   \\\n",
    "                .str.replace(\"''\",' ', regex=False)   \\\n",
    "                .str.replace(r\"(\\s)'|'(\\s)\",' ', regex=True) \\\n",
    "                .str.replace(r\"[^a-zA-Z0-9?'.,]+\",' ',regex=True)\n",
    "\n",
    "def get_data(online_learning=False):\n",
    "    if online_learning:\n",
    "        data = load_online_learning_data()\n",
    "    else:\n",
    "        data = load_data()\n",
    "    for column in data.columns:    \n",
    "        data[column] = lower_data(data[column])\n",
    "        data[column] = clean_data(data[column])\n",
    "    return shuffle(data)"
   ]
  },
  {
   "cell_type": "markdown",
   "metadata": {},
   "source": [
    "### Data analysis\n",
    "Mean sentence length and standard deviation of sentence length"
   ]
  },
  {
   "cell_type": "code",
   "execution_count": 6,
   "metadata": {},
   "outputs": [],
   "source": [
    "def print_data_analysis(clean=True):\n",
    "    data = get_data()\n",
    "    if clean: \n",
    "        data = remove_outliers(data)\n",
    "    print('Central tendency, dispersion and shape of questions’s distribution')\n",
    "    print(data['question'].str.len().describe().apply(lambda x: format(x, 'f')))\n",
    "    print('-'*100)\n",
    "    print('Central tendency, dispersion and shape of answers’s distribution')\n",
    "    print(data['answer'].str.len().describe().apply(lambda x: format(x, 'f')))"
   ]
  },
  {
   "cell_type": "code",
   "execution_count": 7,
   "metadata": {
    "scrolled": true
   },
   "outputs": [],
   "source": [
    "#print_data_analysis()"
   ]
  },
  {
   "cell_type": "code",
   "execution_count": 8,
   "metadata": {},
   "outputs": [],
   "source": [
    "def remove_outliers(data):\n",
    "    return data[(data['question'].str.len() < 100) & (data['question'].str.len() > 10) & (data['answer'].str.len() < 200) & (data['answer'].str.len() > 10)]\n",
    "\n",
    "def padd_data(data):\n",
    "    data = data.assign(question = '<start> ' + data.question  + ' <end>')\n",
    "    data = data.assign(answer = '<start> ' + data.answer  + ' <end>')\n",
    "    return data"
   ]
  },
  {
   "cell_type": "code",
   "execution_count": 9,
   "metadata": {},
   "outputs": [],
   "source": [
    "def preprocess_sentence(sentence):\n",
    "    sentence = sentence.lower()\n",
    "    sentence = sentence.replace(',', ' , ')      \\\n",
    "                .replace('.',' . ')              \\\n",
    "                .replace('?',' ? ')              \\\n",
    "                .replace(\"''\",' ')               \\\n",
    "\n",
    "    sentence = re.sub(r\"(\\s)'|'(\\s)\",\" \", sentence)\n",
    "    sentence = re.sub(r\"[^a-zA-Z0-9?'.,]+\",\" \", sentence)\n",
    "    \n",
    "    sentence = sentence.strip()\n",
    "    vocabulary = load_vocabulary()\n",
    "    \n",
    "    sentence = [word if word in vocabulary else '<unk>' for word in sentence.split(' ')]\n",
    "\n",
    "    # Add a start and stop token to detect the start and end of the sequence\n",
    "    sentence = '<start> ' + ' '.join(sentence) + ' <end>'\n",
    "    return sentence"
   ]
  },
  {
   "cell_type": "code",
   "execution_count": 10,
   "metadata": {},
   "outputs": [],
   "source": [
    "MAX_QUESTION_SIZE = 31\n",
    "MAX_ANSWER_SIZE = 96"
   ]
  },
  {
   "cell_type": "markdown",
   "metadata": {},
   "source": [
    "### Creating the dataset\n",
    "Removing the outliers and adding <start> and <end> for each question, awnser pair"
   ]
  },
  {
   "cell_type": "code",
   "execution_count": 11,
   "metadata": {},
   "outputs": [],
   "source": [
    "def create_dataset(online_learning=False):\n",
    "    dataset = remove_outliers(get_data(online_learning))\n",
    "    dataset = padd_data(dataset)\n",
    "    return dataset['question'].tolist(), dataset['answer'].tolist()"
   ]
  },
  {
   "cell_type": "markdown",
   "metadata": {},
   "source": [
    "### Tokenizing \n",
    "Tokenize the data, padd the sequence and create the vocabulary"
   ]
  },
  {
   "cell_type": "code",
   "execution_count": 12,
   "metadata": {},
   "outputs": [],
   "source": [
    "def load_tokenize(vocabulary):\n",
    "    tokenizer = Tokenizer(filters='!\"#$%&()*+-:;=@[\\\\]^_{|}~\\t')\n",
    "  \n",
    "    # Convert sequences into internal vocab\n",
    "    tokenizer.fit_on_texts(vocabulary)\n",
    "\n",
    "    return tokenizer"
   ]
  },
  {
   "cell_type": "code",
   "execution_count": 13,
   "metadata": {},
   "outputs": [],
   "source": [
    "def tokenize(text, tokenizer, max_len):\n",
    "\n",
    "    # Convert internal vocab to numbers\n",
    "    tensor = tokenizer.texts_to_sequences(text)\n",
    "\n",
    "    # Pad the tensors to assign equal length to all the sequences\n",
    "    tensor = tf.keras.preprocessing.sequence.pad_sequences(tensor, padding='post', truncating='post',maxlen=max_len)\n",
    "\n",
    "    return tensor"
   ]
  },
  {
   "cell_type": "markdown",
   "metadata": {},
   "source": [
    "### Load the clean and formated data "
   ]
  },
  {
   "cell_type": "code",
   "execution_count": 14,
   "metadata": {},
   "outputs": [],
   "source": [
    "def load_dataset():\n",
    " \n",
    "    questions, answers = create_dataset()\n",
    "    vocabulary = load_vocabulary()\n",
    "    \n",
    "    #Create the tokenizer for inputs and outputs\n",
    "    tokenizer = load_tokenize(vocabulary)\n",
    "    \n",
    "    questions_tensor = tokenize(questions, tokenizer, MAX_QUESTION_SIZE)\n",
    "    answers_tensor = tokenize(answers, tokenizer, MAX_ANSWER_SIZE)\n",
    "\n",
    "    return questions_tensor, answers_tensor, tokenizer"
   ]
  },
  {
   "cell_type": "code",
   "execution_count": 15,
   "metadata": {},
   "outputs": [],
   "source": [
    "questions_tensor, answers_tensor, tokenizer = load_dataset()"
   ]
  },
  {
   "cell_type": "markdown",
   "metadata": {},
   "source": [
    "### Split in train and test\n",
    "Split 80% of the data to train and 20% for testing"
   ]
  },
  {
   "cell_type": "code",
   "execution_count": 16,
   "metadata": {},
   "outputs": [
    {
     "name": "stdout",
     "output_type": "stream",
     "text": [
      "Test count: 463660\n",
      "Train count: 115915\n"
     ]
    }
   ],
   "source": [
    "max_length_input, max_length_target = questions_tensor.shape[1], answers_tensor.shape[1]\n",
    "input_train, input_test, target_train, target_test = train_test_split(questions_tensor, answers_tensor, test_size=0.2)\n",
    "\n",
    "print(\"Test count:\", len(input_train))\n",
    "print(\"Train count:\", len(input_test))\n"
   ]
  },
  {
   "cell_type": "code",
   "execution_count": 17,
   "metadata": {},
   "outputs": [
    {
     "name": "stdout",
     "output_type": "stream",
     "text": [
      "Input question; index to word mapping\n",
      "2 ----> <start>\n",
      "345 ----> non\n",
      "1285 ----> usa\n",
      "230 ----> redditors\n",
      "6 ----> ,\n",
      "1387 ----> besides\n",
      "5351 ----> accents\n",
      "6 ----> ,\n",
      "14 ----> what\n",
      "16 ----> is\n",
      "7 ----> a\n",
      "395 ----> dead\n",
      "9119 ----> giveaway\n",
      "18 ----> that\n",
      "7 ----> a\n",
      "3553 ----> tourist\n",
      "16 ----> is\n",
      "433 ----> american\n",
      "8 ----> ?\n",
      "3 ----> <end>\n",
      "\n",
      "Target awnser; index to word mapping\n",
      "2 ----> <start>\n",
      "2206 ----> canadian\n",
      "1651 ----> flag\n",
      "58 ----> we\n",
      "80 ----> know\n",
      "19 ----> your\n",
      "2735 ----> tricks\n",
      "3 ----> <end>\n"
     ]
    }
   ],
   "source": [
    "def convert(text, tensor):\n",
    "    for t in tensor:\n",
    "        if t != 0:\n",
    "            print (\"%d ----> %s\" % (t, text.index_word[t]))\n",
    "      \n",
    "print(\"Input question; index to word mapping\")\n",
    "convert(tokenizer, input_train[0])\n",
    "print()\n",
    "print(\"Target awnser; index to word mapping\")\n",
    "convert(tokenizer, target_train[0])"
   ]
  },
  {
   "cell_type": "markdown",
   "metadata": {},
   "source": [
    "### Setting the hyperparameter"
   ]
  },
  {
   "cell_type": "code",
   "execution_count": 18,
   "metadata": {},
   "outputs": [],
   "source": [
    "BATCH_SIZE = 8\n",
    "\n",
    "embedding_dim = 256\n",
    "units = 1024\n",
    "vocab_input_size = len(tokenizer.word_index) + 1\n",
    "vocab_target_size = len(tokenizer.word_index) + 1\n",
    "\n",
    "\n",
    "# Train hyperparameter\n",
    "BUFFER_SIZE = len(input_train)\n",
    "steps_per_epoch = len(input_train)//BATCH_SIZE\n",
    "\n",
    "# Test hyperparameter\n",
    "TEST_BUFFER_SIZE = len(input_test)\n",
    "steps_per_epoch_test = len(input_test)//BATCH_SIZE"
   ]
  },
  {
   "cell_type": "code",
   "execution_count": 19,
   "metadata": {},
   "outputs": [
    {
     "name": "stderr",
     "output_type": "stream",
     "text": [
      "2023-11-15 17:40:48.252561: E tensorflow/stream_executor/cuda/cuda_driver.cc:265] failed call to cuInit: CUDA_ERROR_NO_DEVICE: no CUDA-capable device is detected\n",
      "2023-11-15 17:40:48.252623: I tensorflow/stream_executor/cuda/cuda_diagnostics.cc:156] kernel driver does not appear to be running on this host (cristine): /proc/driver/nvidia/version does not exist\n",
      "2023-11-15 17:40:48.259686: I tensorflow/core/platform/cpu_feature_guard.cc:193] This TensorFlow binary is optimized with oneAPI Deep Neural Network Library (oneDNN) to use the following CPU instructions in performance-critical operations:  AVX2 FMA\n",
      "To enable them in other operations, rebuild TensorFlow with the appropriate compiler flags.\n"
     ]
    }
   ],
   "source": [
    "dataset = tf.data.Dataset.from_tensor_slices((input_train, target_train)).shuffle(BUFFER_SIZE)\n",
    "dataset = dataset.batch(BATCH_SIZE, drop_remainder=True)\n",
    "\n",
    "dataset_test = tf.data.Dataset.from_tensor_slices((input_test, target_test)).shuffle(TEST_BUFFER_SIZE)\n",
    "dataset_test = dataset_test.batch(BATCH_SIZE, drop_remainder=True)"
   ]
  },
  {
   "cell_type": "code",
   "execution_count": 20,
   "metadata": {},
   "outputs": [
    {
     "data": {
      "text/plain": [
       "(TensorShape([8, 31]), TensorShape([8, 96]))"
      ]
     },
     "execution_count": 20,
     "metadata": {},
     "output_type": "execute_result"
    }
   ],
   "source": [
    "example_input_batch, example_target_batch = next(iter(dataset))\n",
    "example_input_batch.shape, example_target_batch.shape"
   ]
  },
  {
   "cell_type": "code",
   "execution_count": 21,
   "metadata": {},
   "outputs": [],
   "source": [
    "class Encoder(tf.keras.Model):\n",
    "    def __init__(self, vocab_size, embedding_dim, encoder_units, batch_size):\n",
    "        super(Encoder, self).__init__()\n",
    "        self.batch_size = batch_size\n",
    "        self.encoder_units = encoder_units\n",
    "\n",
    "        # Embed the vocab to a dense embedding \n",
    "        self.embedding = Embedding(vocab_size, embedding_dim)\n",
    "\n",
    "        # GRU Layer\n",
    "        # glorot_uniform: Initializer for the recurrent_kernel weights matrix, \n",
    "        # used for the linear transformation of the recurrent state\n",
    "        self.gru = GRU(self.encoder_units,\n",
    "                                   return_sequences=True,\n",
    "                                   return_state=True,\n",
    "                                   recurrent_initializer='glorot_uniform')\n",
    "\n",
    "    # Encoder network comprises an Embedding layer followed by a GRU layer\n",
    "    def call(self, x, hidden):\n",
    "        x = self.embedding(x)\n",
    "        output, state = self.gru(x, initial_state=hidden)\n",
    "        return output, state\n",
    "\n",
    "    # To initialize the hidden state\n",
    "    def initialize_hidden_state(self):\n",
    "        return tf.zeros((self.batch_size, self.encoder_units))"
   ]
  },
  {
   "cell_type": "code",
   "execution_count": 22,
   "metadata": {},
   "outputs": [
    {
     "name": "stdout",
     "output_type": "stream",
     "text": [
      "Encoder output shape: (batch size, sequence length, units) (8, 31, 1024)\n",
      "Encoder Hidden state shape: (batch size, units) (8, 1024)\n"
     ]
    }
   ],
   "source": [
    "encoder = Encoder(vocab_input_size, embedding_dim, units, BATCH_SIZE)\n",
    "\n",
    "sample_hidden = encoder.initialize_hidden_state()\n",
    "sample_output, sample_hidden = encoder(example_input_batch, sample_hidden)\n",
    "\n",
    "print ('Encoder output shape: (batch size, sequence length, units) {}'.format(sample_output.shape))\n",
    "print ('Encoder Hidden state shape: (batch size, units) {}'.format(sample_hidden.shape))\n"
   ]
  },
  {
   "cell_type": "code",
   "execution_count": 23,
   "metadata": {},
   "outputs": [],
   "source": [
    "# Attention Mechanism\n",
    "class Attention(tf.keras.layers.Layer):\n",
    "    def __init__(self, units):\n",
    "        super(Attention, self).__init__()\n",
    "        self.W1 = tf.keras.layers.Dense(units)\n",
    "        self.W2 = tf.keras.layers.Dense(units)\n",
    "        self.V = tf.keras.layers.Dense(1)\n",
    "\n",
    "    def call(self, query, values):\n",
    "        # query hidden state shape == (batch_size, hidden size)\n",
    "        # values shape == (batch_size, max_len, hidden size)\n",
    "\n",
    "        # we are doing this to broadcast addition along the time axis to calculate the score\n",
    "        # query_with_time_axis shape == (batch_size, 1, hidden size)\n",
    "        query_with_time_axis = tf.expand_dims(query, 1)\n",
    "\n",
    "        # score shape == (batch_size, max_length, 1)\n",
    "        # we get 1 at the last axis because we are applying score to self.V\n",
    "        # the shape of the tensor before applying self.V is (batch_size, max_length, units)\n",
    "        score = self.V(tf.nn.tanh(\n",
    "            self.W1(query_with_time_axis) + self.W2(values)))\n",
    "\n",
    "        # attention_weights shape == (batch_size, max_length, 1)\n",
    "        attention_weights = tf.nn.softmax(score, axis=1)\n",
    "\n",
    "        # context_vector shape after sum == (batch_size, hidden_size)\n",
    "        context_vector = attention_weights * values\n",
    "        context_vector = tf.reduce_sum(context_vector, axis=1)\n",
    "\n",
    "        return context_vector, attention_weights"
   ]
  },
  {
   "cell_type": "code",
   "execution_count": 24,
   "metadata": {},
   "outputs": [
    {
     "name": "stdout",
     "output_type": "stream",
     "text": [
      "Attention result shape: (batch size, units) (8, 1024)\n",
      "Attention weights shape: (batch_size, sequence_length, 1) (8, 31, 1)\n"
     ]
    }
   ],
   "source": [
    "attention_layer = Attention(10)\n",
    "attention_result, attention_weights = attention_layer(sample_hidden, sample_output)\n",
    "\n",
    "print(\"Attention result shape: (batch size, units) {}\".format(attention_result.shape))\n",
    "print(\"Attention weights shape: (batch_size, sequence_length, 1) {}\".format(attention_weights.shape))"
   ]
  },
  {
   "cell_type": "code",
   "execution_count": 25,
   "metadata": {},
   "outputs": [],
   "source": [
    "# Decoder class\n",
    "class Decoder(tf.keras.Model):\n",
    "    def __init__(self, vocab_size, embedding_dim, dec_units, batch_sz):\n",
    "        super(Decoder, self).__init__()\n",
    "        self.batch_sz = batch_sz\n",
    "        self.dec_units = dec_units\n",
    "        self.embedding = tf.keras.layers.Embedding(vocab_size, embedding_dim)\n",
    "        self.gru = tf.keras.layers.GRU(self.dec_units,\n",
    "                                       return_sequences=True,\n",
    "                                       return_state=True,\n",
    "                                       recurrent_initializer='glorot_uniform')\n",
    "        self.fc = tf.keras.layers.Dense(vocab_size)\n",
    "\n",
    "        # Used for attention\n",
    "        self.attention = Attention(self.dec_units)\n",
    "\n",
    "    def call(self, x, hidden, enc_output):\n",
    "        # x shape == (batch_size, 1)\n",
    "        # hidden shape == (batch_size, max_length)\n",
    "        # enc_output shape == (batch_size, max_length, hidden_size)\n",
    "\n",
    "        # context_vector shape == (batch_size, hidden_size)\n",
    "        # attention_weights shape == (batch_size, max_length, 1)\n",
    "        context_vector, attention_weights = self.attention(hidden, enc_output)\n",
    "\n",
    "        # x shape after passing through embedding == (batch_size, 1, embedding_dim)\n",
    "        x = self.embedding(x)\n",
    "\n",
    "        # x shape after concatenation == (batch_size, 1, embedding_dim + hidden_size)\n",
    "        x = tf.concat([tf.expand_dims(context_vector, 1), x], axis=-1)\n",
    "\n",
    "        # passing the concatenated vector to the GRU\n",
    "        output, state = self.gru(x)\n",
    "\n",
    "        # output shape == (batch_size * 1, hidden_size)\n",
    "        output = tf.reshape(output, (-1, output.shape[2]))\n",
    "\n",
    "        # output shape == (batch_size, vocab)\n",
    "        x = self.fc(output)\n",
    "\n",
    "        return x, state, attention_weights"
   ]
  },
  {
   "cell_type": "code",
   "execution_count": 26,
   "metadata": {},
   "outputs": [
    {
     "name": "stdout",
     "output_type": "stream",
     "text": [
      "Decoder output shape: (batch_size, vocab size) (8, 30001)\n"
     ]
    }
   ],
   "source": [
    "decoder = Decoder(vocab_target_size, embedding_dim, units, BATCH_SIZE)\n",
    "\n",
    "sample_decoder_output, _, _ = decoder(tf.random.uniform((BATCH_SIZE, 1)),\n",
    "                                      sample_hidden, sample_output)\n",
    "\n",
    "print ('Decoder output shape: (batch_size, vocab size) {}'.format(sample_decoder_output.shape))"
   ]
  },
  {
   "cell_type": "code",
   "execution_count": 27,
   "metadata": {},
   "outputs": [],
   "source": [
    "# Initialize optimizer and loss functions\n",
    "optimizer = tf.keras.optimizers.Adam()\n",
    "\n",
    "loss_object = tf.keras.losses.SparseCategoricalCrossentropy(from_logits=True, reduction='none')\n",
    "\n",
    "# Loss function\n",
    "def loss_function(real, pred):\n",
    "\n",
    "    # Take care of the padding. Not all sequences are of equal length.\n",
    "    # If there's a '0' in the sequence, the loss is being nullified\n",
    "    mask = tf.math.logical_not(tf.math.equal(real, 0))\n",
    "    loss_ = loss_object(real, pred)\n",
    "\n",
    "    mask = tf.cast(mask, dtype=loss_.dtype)\n",
    "    loss_ *= mask\n",
    "\n",
    "    return tf.reduce_mean(loss_)"
   ]
  },
  {
   "cell_type": "code",
   "execution_count": 28,
   "metadata": {},
   "outputs": [],
   "source": [
    "@tf.function\n",
    "def train_step(inp, targ, enc_hidden):\n",
    "    loss = 0\n",
    "\n",
    "    # tf.GradientTape() -- record operations for automatic differentiation\n",
    "    with tf.GradientTape() as tape:\n",
    "        enc_output, enc_hidden = encoder(inp, enc_hidden)\n",
    "\n",
    "        # dec_hidden is used by attention, hence is the same enc_hidden\n",
    "        dec_hidden = enc_hidden\n",
    "\n",
    "        # <start> token is the initial decoder input\n",
    "        dec_input = tf.expand_dims([tokenizer.word_index['<start>']] * BATCH_SIZE, 1)\n",
    "\n",
    "        # Teacher forcing - feeding the target as the next input\n",
    "        for t in range(1, targ.shape[1]):\n",
    "\n",
    "            # Pass enc_output to the decoder\n",
    "            predictions, dec_hidden, _ = decoder(dec_input, dec_hidden, enc_output)\n",
    "\n",
    "            # Compute the loss\n",
    "            loss += loss_function(targ[:, t], predictions)\n",
    "\n",
    "            # Use teacher forcing\n",
    "            dec_input = tf.expand_dims(targ[:, t], 1)\n",
    "\n",
    "    # As this function is called per batch, compute the batch_loss\n",
    "    batch_loss = (loss / int(targ.shape[1]))\n",
    "\n",
    "    # Get the model's variables\n",
    "    variables = encoder.trainable_variables + decoder.trainable_variables\n",
    "\n",
    "    # Compute the gradients\n",
    "    gradients = tape.gradient(loss, variables)\n",
    "\n",
    "    # Update the variables of the model/network\n",
    "    optimizer.apply_gradients(zip(gradients, variables))\n",
    "\n",
    "    return batch_loss"
   ]
  },
  {
   "cell_type": "code",
   "execution_count": 29,
   "metadata": {},
   "outputs": [],
   "source": [
    "@tf.function\n",
    "def test_step(inp, targ, enc_hidden):\n",
    "\n",
    "    test_loss = 0\n",
    "\n",
    "    enc_output, enc_hidden = encoder(inp, enc_hidden)\n",
    "\n",
    "    # dec_hidden is used by attention, hence is the same enc_hidden\n",
    "    dec_hidden = enc_hidden\n",
    "\n",
    "    # <start> token is the initial decoder input\n",
    "    dec_input = tf.expand_dims([tokenizer.word_index['<start>']] * BATCH_SIZE, 1)\n",
    "\n",
    "    # Teacher forcing - feeding the target as the next input\n",
    "    for t in range(1, targ.shape[1]):\n",
    "\n",
    "        # Pass enc_output to the decoder\n",
    "        predictions, dec_hidden, _ = decoder(dec_input, dec_hidden, enc_output)\n",
    "\n",
    "        # Compute the loss\n",
    "        test_loss += loss_function(targ[:, t], predictions)\n",
    "\n",
    "        # Use teacher forcing\n",
    "        dec_input = tf.expand_dims(targ[:, t], 1)\n",
    "\n",
    "    # As this function is called per batch, compute the test_batch_loss\n",
    "    test_batch_loss = (test_loss / int(targ.shape[1]))\n",
    "\n",
    "    return test_batch_loss"
   ]
  },
  {
   "cell_type": "code",
   "execution_count": 30,
   "metadata": {},
   "outputs": [
    {
     "data": {
      "text/plain": [
       "<tensorflow.python.checkpoint.checkpoint.CheckpointLoadStatus at 0x7f8907fe34f0>"
      ]
     },
     "execution_count": 30,
     "metadata": {},
     "output_type": "execute_result"
    }
   ],
   "source": [
    "checkpoint_dir = './training_checkpoints'\n",
    "checkpoint = tf.train.Checkpoint(optimizer=optimizer, encoder=encoder, decoder=decoder)\n",
    "manager = tf.train.CheckpointManager(checkpoint, directory=checkpoint_dir, max_to_keep=10)\n",
    "checkpoint.restore(manager.latest_checkpoint)"
   ]
  },
  {
   "cell_type": "code",
   "execution_count": 31,
   "metadata": {},
   "outputs": [
    {
     "name": "stdout",
     "output_type": "stream",
     "text": [
      "Model: \"encoder\"\n",
      "_________________________________________________________________\n",
      " Layer (type)                Output Shape              Param #   \n",
      "=================================================================\n",
      " embedding (Embedding)       multiple                  7680256   \n",
      "                                                                 \n",
      " gru (GRU)                   multiple                  3938304   \n",
      "                                                                 \n",
      "=================================================================\n",
      "Total params: 11,618,560\n",
      "Trainable params: 11,618,560\n",
      "Non-trainable params: 0\n",
      "_________________________________________________________________\n"
     ]
    }
   ],
   "source": [
    "encoder.summary()"
   ]
  },
  {
   "cell_type": "code",
   "execution_count": 32,
   "metadata": {},
   "outputs": [
    {
     "name": "stdout",
     "output_type": "stream",
     "text": [
      "Model: \"decoder\"\n",
      "_________________________________________________________________\n",
      " Layer (type)                Output Shape              Param #   \n",
      "=================================================================\n",
      " embedding_1 (Embedding)     multiple                  7680256   \n",
      "                                                                 \n",
      " gru_1 (GRU)                 multiple                  7084032   \n",
      "                                                                 \n",
      " dense_3 (Dense)             multiple                  30751025  \n",
      "                                                                 \n",
      " attention_1 (Attention)     multiple                  2100225   \n",
      "                                                                 \n",
      "=================================================================\n",
      "Total params: 47,615,538\n",
      "Trainable params: 47,615,538\n",
      "Non-trainable params: 0\n",
      "_________________________________________________________________\n"
     ]
    }
   ],
   "source": [
    "decoder.summary()"
   ]
  },
  {
   "cell_type": "code",
   "execution_count": null,
   "metadata": {},
   "outputs": [],
   "source": [
    "import time\n",
    "#EPOCHS = 1\n",
    "\n",
    "# Training and testing loop\n",
    "with tf.device('/cpu:0'):\n",
    "    for epoch in range(EPOCHS):\n",
    "                \n",
    "        # ============================= TRAIN PHASE ==================================\n",
    "        \n",
    "        start = time.time()\n",
    "\n",
    "        # Initialize the hidden state\n",
    "        enc_hidden = encoder.initialize_hidden_state()\n",
    "        total_loss = 0\n",
    "\n",
    "        # Loop through the dataset\n",
    "        for (batch, (inp, targ)) in enumerate(dataset.take(steps_per_epoch)):\n",
    "            \n",
    "            print(batch, (inp, targ))\n",
    "\n",
    "            # Call the train method\n",
    "            batch_loss = train_step(inp, targ, enc_hidden)\n",
    "\n",
    "            # Compute the loss (per batch)\n",
    "            total_loss += batch_loss\n",
    "\n",
    "        # Save (checkpoint) the model every 2 epochs\n",
    "        #if (epoch + 1) % 2 == 0:\n",
    "        #    manager.save()\n",
    "\n",
    "\n",
    "        # Output the loss observed until that epoch\n",
    "        print('Train Epoch {} Loss {:.4f}'.format(epoch + 1, total_loss / steps_per_epoch))\n",
    "\n",
    "        print('Time taken for 1 epoch {} sec\\n'.format(time.time() - start))\n",
    "        \n",
    "                    \n",
    "        # ============================= TEST PHASE ==================================\n",
    "        \n",
    "        # Initialize the hidden state\n",
    "        enc_test_hidden = encoder.initialize_hidden_state() \n",
    "        total_test_loss = 0\n",
    "\n",
    "        for (batch_test, (inp_test, targ_test)) in enumerate(dataset_test.take(steps_per_epoch_test)):\n",
    "\n",
    "            # Call the test method\n",
    "            batch_test_loss = test_step(inp_test, targ_test, enc_test_hidden)\n",
    "\n",
    "            # Compute the loss (per batch)\n",
    "            total_test_loss += batch_test_loss\n",
    "            \n",
    "        print('Test Epoch {} Loss {:.4f}'.format(epoch + 1, total_test_loss / steps_per_epoch_test))"
   ]
  },
  {
   "cell_type": "code",
   "execution_count": 33,
   "metadata": {},
   "outputs": [],
   "source": [
    "import numpy as np\n",
    "\n",
    "# Evaluate function -- similar to the training loop\n",
    "def evaluate(sentence):\n",
    "\n",
    "    # Attention plot (to be plotted later on) -- initialized with max_lengths of both target and input\n",
    "    attention_plot = np.zeros((max_length_target, max_length_input))\n",
    "\n",
    "    # Preprocess the sentence given\n",
    "    sentence = preprocess_sentence(sentence)\n",
    "\n",
    "    # Fetch the indices concerning the words in the sentence and pad the sequence\n",
    "    inputs = [tokenizer.word_index[i] for i in sentence.split(' ')]\n",
    "    inputs = tf.keras.preprocessing.sequence.pad_sequences([inputs],\n",
    "                                                         maxlen=max_length_input,\n",
    "                                                         padding='post')\n",
    "    # Convert the inputs to tensors\n",
    "    inputs = tf.convert_to_tensor(inputs)\n",
    "\n",
    "    prediction_percentages = []\n",
    "    \n",
    "    result = ''\n",
    "\n",
    "    hidden = [tf.zeros((1, units))]\n",
    "    enc_out, enc_hidden = encoder(inputs, hidden)\n",
    "\n",
    "    dec_hidden = enc_hidden\n",
    "    dec_input = tf.expand_dims([tokenizer.word_index['<start>']], 0)\n",
    "\n",
    "    # Loop until the max_length is reached for the target lang (ENGLISH)\n",
    "    for t in range(max_length_target):\n",
    "        predictions, dec_hidden, attention_weights = decoder(dec_input, dec_hidden, enc_out)\n",
    "\n",
    "        \n",
    "        # Store the attention weights to plot later on\n",
    "        attention_weights = tf.reshape(attention_weights, (-1, ))\n",
    "        attention_plot[t] = attention_weights.numpy()\n",
    "\n",
    "        # Get the prediction with the maximum attention\n",
    "        predicted_id = tf.argmax(predictions[0]).numpy()\n",
    "        \n",
    "        prediction_percentage = predictions[0].numpy()\n",
    "        prediction_percentages.append(prediction_percentage)\n",
    "        \n",
    "        # Append the token to the result\n",
    "        result += tokenizer.index_word[predicted_id] + ' '\n",
    "\n",
    "        # If <end> token is reached, return the result, input, and attention plot\n",
    "        if tokenizer.index_word[predicted_id] == '<end>':\n",
    "            return result, sentence, attention_plot, prediction_percentages\n",
    "\n",
    "        # The predicted ID is fed back into the model\n",
    "        dec_input = tf.expand_dims([predicted_id], 0)\n",
    "        \n",
    "    return result, sentence, attention_plot, prediction_percentages"
   ]
  },
  {
   "cell_type": "code",
   "execution_count": 4,
   "metadata": {},
   "outputs": [],
   "source": [
    "# Function for plotting the attention weights\n",
    "def plot_attention(attention, sentence, predicted_sentence):\n",
    "    fig = plt.figure(figsize=(10,10))\n",
    "    ax = fig.add_subplot(1, 1, 1)\n",
    "    ax.matshow(attention, cmap='viridis')\n",
    "\n",
    "    fontdict = {'fontsize': 14}\n",
    "\n",
    "    ax.set_xticklabels([''] + sentence, fontdict=fontdict, rotation=90)\n",
    "    ax.set_yticklabels([''] + predicted_sentence, fontdict=fontdict)\n",
    "\n",
    "    ax.xaxis.set_major_locator(ticker.MultipleLocator(1))\n",
    "    ax.yaxis.set_major_locator(ticker.MultipleLocator(1))\n",
    "\n",
    "    plt.show()\n",
    "    \n",
    "# Function for plotting the loss values\n",
    "def plot_loss(loss_values, title=None):\n",
    "    plt.plot(loss_values)\n",
    "    \n",
    "    if title:\n",
    "        plt.title(title)\n",
    "\n",
    "    plt.xlabel('Batches',fontsize=11)\n",
    "    plt.ylabel('Loss',fontsize=11)\n",
    "    plt.tight_layout()\n",
    "    plt.margins(x=0.01, y=1.5)\n",
    "\n",
    "    plt.show()"
   ]
  },
  {
   "cell_type": "code",
   "execution_count": 35,
   "metadata": {},
   "outputs": [],
   "source": [
    "def response(sentence, print_out=False):\n",
    "    result, sentence, attention_plot, prediction_percentages = evaluate(sentence)\n",
    "    return result, attention_plot, prediction_percentages"
   ]
  },
  {
   "cell_type": "code",
   "execution_count": 36,
   "metadata": {},
   "outputs": [],
   "source": [
    "def bleu_score(expected, predicted):\n",
    "    expected = [expected.split()]\n",
    "    predicted = predicted.split()\n",
    "    return sentence_bleu(expected, predicted, smoothing_function=SmoothingFunction().method4)"
   ]
  },
  {
   "cell_type": "code",
   "execution_count": 37,
   "metadata": {},
   "outputs": [],
   "source": [
    "def penallty(prediction):\n",
    "    prediction_ids = [tf.argmax(percentage).numpy() for percentage in prediction]\n",
    "    unique_ids = set(prediction_ids)\n",
    "    unique_words = [tokenizer.index_word[i] for i in unique_ids]\n",
    "    count_words = [prediction_ids.count(unique_id) - 1 for unique_id in unique_ids]\n",
    "    return sum(count_words) * 0.07"
   ]
  },
  {
   "cell_type": "code",
   "execution_count": 38,
   "metadata": {},
   "outputs": [],
   "source": [
    "def prediction_precision(prediction):\n",
    "    standard_percentages = [np.std(percentage) for percentage in prediction]\n",
    "    precision = np.mean(np.array(standard_percentages))\n",
    "    return precision - penallty(prediction)"
   ]
  },
  {
   "cell_type": "code",
   "execution_count": 39,
   "metadata": {},
   "outputs": [],
   "source": [
    "def remove_tags(sentence):\n",
    "    sentence = sentence.strip()\n",
    "    sentence = sentence.removeprefix('<start>')\n",
    "    sentence = sentence.removesuffix('<end>')\n",
    "    return sentence"
   ]
  },
  {
   "cell_type": "code",
   "execution_count": 65,
   "metadata": {},
   "outputs": [
    {
     "name": "stdout",
     "output_type": "stream",
     "text": [
      "Input: what are you doing tonight?\n",
      "Predicted awnser: no money for women to . <end> \n",
      "Predicted precision: 3.083693265914917\n"
     ]
    }
   ],
   "source": [
    "sentence = 'what are you doing tonight?'\n",
    "result, attention_plot, prediction_percentages = response(sentence)\n",
    "precision = prediction_precision(prediction_percentages)\n",
    "\n",
    "#Printing the result\n",
    "print('Input: %s' % (sentence))\n",
    "print('Predicted awnser: {}'.format(result))\n",
    "print('Predicted precision: {}'.format(precision))\n",
    "\n",
    "#Ploting the attention\n",
    "#attention_plot = attention_plot[:len(result.split(' ')), :len(sentence.split(' '))]\n",
    "#plot_attention(attention_plot, sentence.split(' '), result.split(' '))"
   ]
  },
  {
   "cell_type": "code",
   "execution_count": 5,
   "metadata": {},
   "outputs": [
    {
     "data": {
      "image/png": "[encoded data removed]",
      "text/plain": [
       "<Figure size 640x480 with 1 Axes>"
      ]
     },
     "metadata": {},
     "output_type": "display_data"
    }
   ],
   "source": [
    "#Ploting loss\n",
    "loss_file = open(\"loss.txt\", \"r\")\n",
    "data = loss_file.read()\n",
    "data_loss_list = data.split(\"\\n\")\n",
    "loss_file.close()\n",
    "\n",
    "data_loss_list = [i for i in data_loss_list if i]\n",
    "data_loss = [float(i) for i in data_loss_list]\n",
    "\n",
    "data_loss_mean = list()\n",
    "for i in range(int(len(data_loss_list)/ 60)):\n",
    "    data_loss_mean.append(mean(data_loss[i*60:(i*60)+60]))\n",
    "    \n",
    "plot_loss(data_loss_mean, 'Training')"
   ]
  },
  {
   "cell_type": "code",
   "execution_count": 47,
   "metadata": {},
   "outputs": [],
   "source": [
    "questions, answers = create_dataset()"
   ]
  },
  {
   "cell_type": "code",
   "execution_count": 121,
   "metadata": {},
   "outputs": [
    {
     "name": "stdout",
     "output_type": "stream",
     "text": [
      "\n",
      "---------------\n",
      "Question:   parents of reddit , what are your kids doing with their big christmas gift 4 weeks later ?  \n",
      "Real awnser:   my wife and i have just finished getting all gems in mario party on the new switch . . . kids haven't touched it in a couple weeks .  \n",
      "Predicted awnser:  4 months of a winter . \n",
      "Precision:  5.434486389160156\n",
      "---------------\n",
      "\n",
      "---------------\n",
      "Question:   who do you believe was the worst president of the united states ? and why ?  \n",
      "Real awnser:   andrew johnson . racist and intentionally terrible , and a president that really shouldn't have been a president .  \n",
      "Predicted awnser:  eats being aware of all of your desk for months . \n",
      "Precision:  5.486600570678711\n",
      "---------------\n",
      "\n",
      "---------------\n",
      "Question:   reddit , what is your vote for most underrated band ever ?  \n",
      "Real awnser:   hipsters , assemble  \n",
      "Predicted awnser:  same time . just grew up front of their entire plan for a part . just grew up front of their entire plan for a part . just grew up front of their entire plan for a part . just grew up front of their entire plan for a part . just grew up front of their entire plan for a part . just grew up front of their entire plan for a part . just grew up front of their entire plan for a part . just grew up front of their entire plan for\n",
      "Precision:  -0.07519506454467795\n",
      "---------------\n",
      "\n",
      "---------------\n",
      "Question:   what harsh truths have you learned as you have grown and aged ?  \n",
      "Real awnser:   even if you are the most deep and spiritual person , who values all of the little things in life , money still fucking matters . a lot .  \n",
      "Predicted awnser:  met her so bad fuck up for anything made myself down the feeling super interesting sub 11 lawyers are now i'm also , or lady here at least me and move out of money nigger shit . \n",
      "Precision:  6.242617130279541\n",
      "---------------\n",
      "\n",
      "---------------\n",
      "Question:   reddit , what does your ideal breakfast look like ?  \n",
      "Real awnser:   2 soft boiled eggs , 2 slices of toast , a cup of mix strawberry , pineapple , blueberrys and glass of chocolate milk \n",
      "Predicted awnser:  usually it's adorable . \n",
      "Precision:  5.751176357269287\n",
      "---------------\n"
     ]
    }
   ],
   "source": [
    "for i in range(5):\n",
    "    index = random.randint(0,len(questions))\n",
    "    result, _, prediction_percentages = response(questions[index])\n",
    "    bleu = bleu_score(remove_tags(answers[index]), remove_tags(result))\n",
    "    print('\\n---------------')\n",
    "    print('Question: ', remove_tags(questions[index]))\n",
    "    print('Real awnser: ', remove_tags(answers[index]))\n",
    "    print('Predicted awnser: ', remove_tags(result))\n",
    "    print('Precision: ', prediction_precision(prediction_percentages))\n",
    "    print('---------------')"
   ]
  },
  {
   "cell_type": "code",
   "execution_count": 40,
   "metadata": {},
   "outputs": [],
   "source": [
    "def retrain_steps(data, return_loss=False):\n",
    "    EPOCHS = 10\n",
    "    for epoch in range(EPOCHS):\n",
    "\n",
    "        # Initialize the hidden state\n",
    "        enc_hidden = encoder.initialize_hidden_state()\n",
    "        retrain_total_loss = 0\n",
    "             \n",
    "        # Loop through the data\n",
    "        for (batch, (inp, targ)) in enumerate(data.take(steps_per_epoch)):\n",
    "              \n",
    "            # Call the train method\n",
    "            retrain_batch_loss = train_step(inp, targ, enc_hidden)\n",
    "\n",
    "            # Compute the loss (per batch)\n",
    "            retrain_total_loss += retrain_batch_loss\n",
    "\n",
    "        # Save (checkpoint) the model every 2 epochs\n",
    "        #if (epoch + 1) % 2 == 0:\n",
    "            #manager.save()\n",
    "            \n",
    "    if return_loss:\n",
    "        return retrain_total_loss\n",
    "        "
   ]
  },
  {
   "cell_type": "code",
   "execution_count": 41,
   "metadata": {},
   "outputs": [],
   "source": [
    "class Chatbot:\n",
    "    negative_responses = (\"no\", \"nope\", \"nah\", \"naw\", \"not a chance\", \"sorry\")\n",
    "    exit_commands = (\"quit\", \"pause\", \"exit\", \"goodbye\", \"bye\", \"later\", \"stop\")\n",
    "    min_precision = 5\n",
    "    last_question = None\n",
    "    \n",
    "    def start_chat(self):\n",
    "        user_response = input(\"Hi, I'm a chatbot trained on dialogs. Would you like to chat with me?\\n\")\n",
    "    \n",
    "        if user_response in self.negative_responses:\n",
    "            print(\"Ok, have a great day!\")\n",
    "            return\n",
    "        self.chat(user_response)\n",
    "    \n",
    "    def chat(self, sentence):\n",
    "        while not self.make_exit(sentence):\n",
    "            if self.last_question is not None:\n",
    "                print(\"Learning ... \")\n",
    "                self.retrain(sentence)\n",
    "                self.last_question = None\n",
    "                sentence = input(\"What more can I help you with?\")\n",
    "            else:\n",
    "                sentence = input(self.generate_response(sentence))\n",
    "  \n",
    "    def generate_response(self, sentence):\n",
    "        result, attention_plot, prediction_percentages = response(sentence)\n",
    "        precision = prediction_precision(prediction_percentages)\n",
    "        if precision < self.min_precision:\n",
    "            self.last_question = sentence\n",
    "            return \"Sorry, I'm still learning, what could be a possible answer to this question?\"\n",
    "        else:\n",
    "            return result\n",
    "    \n",
    "    def retrain(self, sentence):\n",
    "        retrain_question = preprocess_sentence(self.last_question)\n",
    "        retrain_answer = preprocess_sentence(sentence)\n",
    "\n",
    "        retrain_question_tensor = tokenize([retrain_question], tokenizer, MAX_QUESTION_SIZE)\n",
    "        retrain_answer_tensor = tokenize([retrain_answer], tokenizer, MAX_ANSWER_SIZE)\n",
    "\n",
    "        retrain_answer_tensors = np.append(retrain_answer_tensor, retrain_answer_tensor, axis=0)\n",
    "        for i in range(BATCH_SIZE - 2):\n",
    "            retrain_answer_tensors = np.append(retrain_answer_tensors, retrain_answer_tensor, axis=0)\n",
    "\n",
    "        newdata = tf.data.Dataset.from_tensor_slices((retrain_answer_tensors, retrain_answer_tensors)).shuffle(BUFFER_SIZE)\n",
    "        newdata = newdata.batch(BATCH_SIZE, drop_remainder=True)\n",
    "\n",
    "        retrain_steps(newdata)\n",
    "        return\n",
    "        \n",
    "        \n",
    "    def make_exit(self, sentence):\n",
    "        for exit_command in self.exit_commands:\n",
    "            if exit_command in sentence:\n",
    "                print(\"Ok, have a great day!\")\n",
    "                return True\n",
    "        return False\n",
    "\n"
   ]
  },
  {
   "cell_type": "code",
   "execution_count": null,
   "metadata": {
    "scrolled": true
   },
   "outputs": [
    {
     "name": "stdout",
     "output_type": "stream",
     "text": [
      "Hi, I'm a chatbot trained on dialogs. Would you like to chat with me?\n",
      "what do you think is going to be the future for the humans?\n",
      "Sorry, I'm still learning, what could be a possible answer to this question?It is possible that they will become extinct or become pioneers of the universe\n",
      "Learning ... \n"
     ]
    }
   ],
   "source": [
    "chatbot = Chatbot()\n",
    "chatbot.start_chat()"
   ]
  },
  {
   "cell_type": "code",
   "execution_count": 42,
   "metadata": {},
   "outputs": [],
   "source": [
    "class ChatAutomation:\n",
    "    min_precision = 6\n",
    "       \n",
    "    def chat(self, sentence, response, print_info=True):\n",
    "               \n",
    "        result, precision = self.generate_response(sentence)\n",
    "        retrain_loss = None\n",
    "        if precision < self.min_precision:\n",
    "            retrain_loss = self.retrain(sentence, response)\n",
    "        \n",
    "        if print_info:\n",
    "            self.print_info(sentence, response, result, precision, retrain_loss)\n",
    "            \n",
    "        return precision, retrain_loss\n",
    "    \n",
    "    def print_info(self, sentence, response, result, precision, retrain_loss):\n",
    "        print('\\n---------------')\n",
    "        print('Question: ', remove_tags(sentence))\n",
    "        print('Real awnser: ', remove_tags(response))\n",
    "        print('Predicted awnser: ', remove_tags(result))\n",
    "        print('Precision: ', precision)\n",
    "        if(retrain_loss is not None):\n",
    "            print('Retrain Loss {:.4f}'.format(retrain_loss))\n",
    "        print('---------------')\n",
    "  \n",
    "    def generate_response(self, sentence):\n",
    "        result, attention_plot, prediction_percentages = response(sentence)\n",
    "        precision = prediction_precision(prediction_percentages)\n",
    "        return result, precision    \n",
    "    \n",
    "    def retrain(self, sentence, response):\n",
    "        retrain_question = preprocess_sentence(sentence)\n",
    "        retrain_answer = preprocess_sentence(response)\n",
    "        \n",
    "        retrain_question_tensor = tokenize([retrain_question], tokenizer, MAX_QUESTION_SIZE)\n",
    "        retrain_answer_tensor = tokenize([retrain_answer], tokenizer, MAX_ANSWER_SIZE)\n",
    "\n",
    "        retrain_answer_tensors = np.append(retrain_answer_tensor, retrain_answer_tensor, axis=0)\n",
    "        for i in range(BATCH_SIZE - 2):\n",
    "            retrain_answer_tensors = np.append(retrain_answer_tensors, retrain_answer_tensor, axis=0)\n",
    "\n",
    "        newdata = tf.data.Dataset.from_tensor_slices((retrain_answer_tensors, retrain_answer_tensors)).shuffle(BUFFER_SIZE)\n",
    "        newdata = newdata.batch(BATCH_SIZE, drop_remainder=True)\n",
    "                \n",
    "        retrain_loss = retrain_steps(newdata, return_loss=True)\n",
    "        \n",
    "        \n",
    "        return retrain_loss\n",
    "        "
   ]
  },
  {
   "cell_type": "code",
   "execution_count": 43,
   "metadata": {},
   "outputs": [],
   "source": [
    "chat_auto = ChatAutomation()\n",
    "new_data_questions, new_data_answers = create_dataset(online_learning=True)\n",
    "\n",
    "precisions = list()\n",
    "retrain_losses = list()\n"
   ]
  },
  {
   "cell_type": "code",
   "execution_count": null,
   "metadata": {
    "scrolled": true
   },
   "outputs": [],
   "source": [
    "for i in range(5):\n",
    "    index = random.randint(0,len(new_data_questions))\n",
    "    \n",
    "    question = new_data_questions[index]\n",
    "    answers = new_data_answers[index]\n",
    "    \n",
    "    \n",
    "    precision, retrain_loss = chat_auto.chat(question, answers, print_info=True)\n",
    "    precisions.append(precision)\n",
    "    retrain_losses.append(retrain_loss)"
   ]
  },
  {
   "cell_type": "code",
   "execution_count": null,
   "metadata": {},
   "outputs": [],
   "source": []
  }
 ],
 "metadata": {
  "accelerator": "GPU",
  "colab": {
   "collapsed_sections": [],
   "machine_shape": "hm",
   "name": "chatbot.ipynb",
   "provenance": []
  },
  "kernelspec": {
   "display_name": "Python 3 (ipykernel)",
   "language": "python",
   "name": "python3"
  },
  "language_info": {
   "codemirror_mode": {
    "name": "ipython",
    "version": 3
   },
   "file_extension": ".py",
   "mimetype": "text/x-python",
   "name": "python",
   "nbconvert_exporter": "python",
   "pygments_lexer": "ipython3",
   "version": "3.10.12"
  }
 },
 "nbformat": 4,
 "nbformat_minor": 1
}
